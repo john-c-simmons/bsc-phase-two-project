{
 "cells": [
  {
   "cell_type": "markdown",
   "metadata": {},
   "source": [
    "<h1>Housing Data for King County <h1>    "
   ]
  },
  {
   "cell_type": "markdown",
   "metadata": {},
   "source": [
    "<h5>John Carter Simmons, Mallory Wilson, Charlie Fountain<h5>"
   ]
  },
  {
   "cell_type": "markdown",
   "metadata": {},
   "source": [
    "<h3>Overview<h3>      "
   ]
  },
  {
   "cell_type": "markdown",
   "metadata": {},
   "source": [
    "In order for us to accurately inform King County home buyers how their potential home renovations would affect the price of their home, we had to go through the process of making multiple models that would show how different home features are affected by price. After finding more data,  cleaning the  data, making multiple models and graphs, we have a better idea on how much different features can affect the price of a home. These results will be shown in multiple graphs."
   ]
  },
  {
   "cell_type": "markdown",
   "metadata": {},
   "source": [
    "<h3>Business Problem<h3>  "
   ]
  },
  {
   "cell_type": "markdown",
   "metadata": {},
   "source": [
    "A seattle real estate firm has asked us to create a model that allows clients to make a prediction for their home's sale price. This model will make it easier for clients to approximate the price of their home. Clients will now know a ballpark estimate of their homes sale price based off of its features. This allows the real estate firm to focus on finding their client a new home instead of evaluating the previous home.  "
   ]
  },
  {
   "cell_type": "markdown",
   "metadata": {},
   "source": [
    "<h3> Data <h3>"
   ]
  },
  {
   "cell_type": "markdown",
   "metadata": {},
   "source": [
    "We used two data sets for our model kc_house_data.csv and King County GIS Census data. The first data set includes information about house features. The King County GIS Census data includes information on Census tract. This is similar to a zipcode but only more specfic. These datasets allow us to evalute variables that effect sale price of a home.   "
   ]
  },
  {
   "cell_type": "markdown",
   "metadata": {},
   "source": [
    "<h3> Methods <h3>"
   ]
  },
  {
   "cell_type": "markdown",
   "metadata": {},
   "source": [
    "In this project we used linear regression to create models that would predict the price of a home. This took the majority of the time because we created many diffrent models. Some models crash and burned and others prevailed. Before we could do this, we used a variety of PANDAS methods to clean and filter our data. "
   ]
  },
  {
   "cell_type": "markdown",
   "metadata": {},
   "source": [
    "<h3> Results <h3>"
   ]
  },
  {
   "cell_type": "markdown",
   "metadata": {},
   "source": []
  },
  {
   "cell_type": "markdown",
   "metadata": {},
   "source": [
    "<h3> Conclusions <h3>"
   ]
  },
  {
   "cell_type": "code",
   "execution_count": null,
   "metadata": {},
   "outputs": [],
   "source": []
  }
 ],
 "metadata": {
  "kernelspec": {
   "display_name": "learn-env",
   "language": "python",
   "name": "learn-env"
  },
  "language_info": {
   "codemirror_mode": {
    "name": "ipython",
    "version": 3
   },
   "file_extension": ".py",
   "mimetype": "text/x-python",
   "name": "python",
   "nbconvert_exporter": "python",
   "pygments_lexer": "ipython3",
   "version": "3.8.5"
  }
 },
 "nbformat": 4,
 "nbformat_minor": 4
}
