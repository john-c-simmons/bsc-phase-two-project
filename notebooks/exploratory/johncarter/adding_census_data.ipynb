{
 "cells": [
  {
   "cell_type": "markdown",
   "metadata": {},
   "source": [
    "## Importing shapely and json and King County demographic data as a .geojson"
   ]
  },
  {
   "cell_type": "code",
   "execution_count": 71,
   "metadata": {
    "ExecuteTime": {
     "end_time": "2021-07-01T16:26:52.712992Z",
     "start_time": "2021-07-01T16:26:52.398532Z"
    }
   },
   "outputs": [],
   "source": [
    "from shapely.geometry import Point, Polygon\n",
    "import json\n",
    "import pandas as pd\n",
    "with open('../../../data/Consolidated_Demographics_Index_for_King_County_Census_Tracts___demographic_index_area.geojson') as f:\n",
    "    census_tract = json.load(f)\n",
    "df = pd.read_csv('../../../data/kc_house_data.csv')"
   ]
  },
  {
   "cell_type": "code",
   "execution_count": 72,
   "metadata": {
    "ExecuteTime": {
     "end_time": "2021-07-01T16:26:52.720422Z",
     "start_time": "2021-07-01T16:26:52.715320Z"
    }
   },
   "outputs": [
    {
     "data": {
      "image/svg+xml": [
       "<svg xmlns=\"http://www.w3.org/2000/svg\" xmlns:xlink=\"http://www.w3.org/1999/xlink\" width=\"100.0\" height=\"100.0\" viewBox=\"-122.3639258398838 47.68999854829573 0.014594415029790753 0.015665380962126108\" preserveAspectRatio=\"xMinYMin meet\"><g transform=\"matrix(1,0,0,-1,0,95.3956624775536)\"><path fill-rule=\"evenodd\" fill=\"#66cc99\" stroke=\"#555555\" stroke-width=\"0.00031330761924252214\" opacity=\"0.6\" d=\"M -122.35007368859192,47.70506774138125 L -122.3508046885068,47.70506573957841 L -122.35142368863194,47.705071738733295 L -122.35276368968567,47.70507573553006 L -122.35411168928309,47.70507973312016 L -122.35545268990859,47.705083729962965 L -122.3554446855053,47.704358730514315 L -122.355437682169,47.70363473063563 L -122.3554296795306,47.70290973111566 L -122.35542267659872,47.70218573118392 L -122.35541467306082,47.701460731628735 L -122.35540066668275,47.700111732853564 L -122.35539566463787,47.699649732873574 L -122.35537665754009,47.69783873395591 L -122.355358648499,47.696027735061136 L -122.35533964135259,47.694216735859314 L -122.35667964128264,47.69422273312396 L -122.35738764039525,47.69422473148086 L -122.35801964061926,47.69422773047338 L -122.35935964073356,47.69423372772418 L -122.36067664162917,47.69423872470319 L -122.36201064166708,47.694243722257454 L -122.36334564058892,47.69424971994998 L -122.36334063779131,47.6935257197778 L -122.36333563515961,47.69280172048018 L -122.3633306310271,47.69206572125083 L -122.36332562781018,47.69136472140533 L -122.3633206255692,47.69064072113527 L -122.36064762534599,47.69062572686164 L -122.35931962514914,47.69061872978451 L -122.35798162483506,47.69061073190941 L -122.35664162549348,47.69060273425791 L -122.35530162437524,47.690594737074754 L -122.3539316253831,47.69059073993962 L -122.3526016251667,47.69058674277553 L -122.35134362467815,47.690583744809906 L -122.3499116241489,47.69057874759063 L -122.3499206284696,47.691303747937745 L -122.34992963179373,47.69202774701146 L -122.34993363311231,47.69240174678874 L -122.34993763448396,47.692753746616035 L -122.34992163772219,47.69347574653743 L -122.34993464129582,47.69420174611989 L -122.34994864352129,47.694925746055105 L -122.3499716471037,47.69565074530337 L -122.34997664851126,47.696012745323884 L -122.3499846526323,47.69675974526087 L -122.3499866532635,47.69687774464873 L -122.34999765740697,47.697823744033656 L -122.35000866142057,47.69872974406752 L -122.35001866512947,47.699634743516754 L -122.35002966866926,47.70053974312021 L -122.35003367044574,47.70098874314765 L -122.35003967298451,47.701445742854254 L -122.3500416765209,47.702169742091776 L -122.35004967980935,47.702894741903684 L -122.35005768209682,47.703618741340314 L -122.35006568596582,47.70434274163174 L -122.35007368859192,47.70506774138125 z\" /></g></svg>"
      ],
      "text/plain": [
       "<shapely.geometry.polygon.Polygon at 0x7f847e098e20>"
      ]
     },
     "execution_count": 72,
     "metadata": {},
     "output_type": "execute_result"
    }
   ],
   "source": [
    "Polygon(census_tract['features'][0]['geometry']['coordinates'][0])"
   ]
  },
  {
   "cell_type": "code",
   "execution_count": 74,
   "metadata": {
    "ExecuteTime": {
     "end_time": "2021-07-01T16:26:52.927149Z",
     "start_time": "2021-07-01T16:26:52.898901Z"
    }
   },
   "outputs": [],
   "source": [
    "coords = []\n",
    "\n",
    "for x in census_tract['features']:\n",
    "    d = {}\n",
    "    d['label'] = x['properties']['TRACT_LBL']\n",
    "    shape = x['geometry']['coordinates']\n",
    "    if len(shape) != 1:\n",
    "        d['shape'] = Polygon(shape[0][0]+shape[1][0])\n",
    "    else:\n",
    "        d[\"shape\"] = Polygon(shape[0])\n",
    "    coords.append(d)"
   ]
  },
  {
   "cell_type": "markdown",
   "metadata": {},
   "source": [
    "### shape of a random (20th) census tract"
   ]
  },
  {
   "cell_type": "code",
   "execution_count": 75,
   "metadata": {
    "ExecuteTime": {
     "end_time": "2021-07-01T16:26:53.259544Z",
     "start_time": "2021-07-01T16:26:53.254794Z"
    }
   },
   "outputs": [
    {
     "data": {
      "text/plain": [
       "{'label': 'Tract 001100',\n",
       " 'shape': <shapely.geometry.polygon.Polygon at 0x7f847c4b8ca0>}"
      ]
     },
     "execution_count": 75,
     "metadata": {},
     "output_type": "execute_result"
    }
   ],
   "source": [
    "coords[20]"
   ]
  },
  {
   "cell_type": "code",
   "execution_count": 76,
   "metadata": {
    "ExecuteTime": {
     "end_time": "2021-07-01T16:26:53.422382Z",
     "start_time": "2021-07-01T16:26:53.417803Z"
    }
   },
   "outputs": [
    {
     "data": {
      "image/svg+xml": [
       "<svg xmlns=\"http://www.w3.org/2000/svg\" xmlns:xlink=\"http://www.w3.org/1999/xlink\" width=\"100.0\" height=\"100.0\" viewBox=\"-122.31295060125274 47.69975495702386 0.01395576129320375 0.012928738446895238\" preserveAspectRatio=\"xMinYMin meet\"><g transform=\"matrix(1,0,0,-1,0,95.41243865249461)\"><path fill-rule=\"evenodd\" fill=\"#66cc99\" stroke=\"#555555\" stroke-width=\"0.000279115225864075\" opacity=\"0.6\" d=\"M -122.29951172000743,47.71204384186288 L -122.30034971969164,47.71205184033985 L -122.30174172087771,47.71206583736125 L -122.3030787199128,47.712077834861276 L -122.30441472063941,47.71209083172569 L -122.30575071982824,47.71210382915775 L -122.3062827210043,47.71210882749846 L -122.3070877207596,47.71211582642951 L -122.30815072047412,47.71212582382932 L -122.30842472050021,47.71212882369481 L -122.30979872052932,47.712144821080734 L -122.30999972037318,47.71214682027076 L -122.3110937203948,47.712153817676295 L -122.31243372120484,47.71216681542286 L -122.31243271677236,47.71133281573778 L -122.3124317121117,47.7103568159743 L -122.3124307046105,47.708528815861094 L -122.31242969673171,47.70669981702627 L -122.3124296957881,47.70642581684583 L -122.31242969188162,47.70553081734386 L -122.31242968814568,47.704883816873405 L -122.31242868800007,47.704860817178755 L -122.31238568375943,47.70397581774405 L -122.31234168041344,47.70306681820753 L -122.31229767641462,47.70215881809733 L -122.31225367215114,47.701249818496954 L -122.31132467239365,47.70123882020503 L -122.31111567175606,47.701238821280256 L -122.31092467152752,47.701239821090404 L -122.30958567263394,47.7012288239813 L -122.30955066826846,47.700320824663876 L -122.30787866837052,47.700307827310155 L -122.30689166783658,47.70029982930387 L -122.30423266734323,47.70027883492392 L -122.30331766754963,47.70027183707176 L -122.30255167150587,47.70117183834838 L -122.30218167433698,47.7016268384758 L -122.30191167621992,47.702072839462566 L -122.30171967790763,47.702553839603276 L -122.30162867946358,47.70297583914836 L -122.30162468065431,47.70302983953749 L -122.30160468059181,47.70328383950887 L -122.30161268542858,47.704199839109826 L -122.3017506870137,47.704632838930145 L -122.30179168744955,47.70476083901257 L -122.30161568639815,47.70456783939332 L -122.30161668808351,47.704745838893466 L -122.30161668801186,47.704811838782256 L -122.30162069019828,47.70535583875046 L -122.30162669389725,47.7062058389655 L -122.30163169671069,47.7067008384195 L -122.30159969840216,47.707156838279886 L -122.30153770044305,47.70762083867159 L -122.30149970147204,47.70778483890375 L -122.30135470432356,47.70842583870946 L -122.30116770673648,47.70899183893888 L -122.3009847081007,47.70944083965237 L -122.30077171004659,47.7098838399222 L -122.30047271308793,47.71041984032977 L -122.29951172000743,47.71204384186288 z\" /></g></svg>"
      ],
      "text/plain": [
       "<shapely.geometry.polygon.Polygon at 0x7f847c4b8ca0>"
      ]
     },
     "execution_count": 76,
     "metadata": {},
     "output_type": "execute_result"
    }
   ],
   "source": [
    "coords[20]['shape']"
   ]
  },
  {
   "cell_type": "markdown",
   "metadata": {},
   "source": [
    "## making column of coordinates by zipping long and lat "
   ]
  },
  {
   "cell_type": "code",
   "execution_count": 80,
   "metadata": {
    "ExecuteTime": {
     "end_time": "2021-07-01T16:26:54.304351Z",
     "start_time": "2021-07-01T16:26:54.295385Z"
    }
   },
   "outputs": [
    {
     "name": "stderr",
     "output_type": "stream",
     "text": [
      "<ipython-input-80-4db589e91429>:1: UserWarning: Pandas doesn't allow columns to be created via a new attribute name - see https://pandas.pydata.org/pandas-docs/stable/indexing.html#attribute-access\n",
      "  df.coordinates = list(zip(df.long, df.lat))\n"
     ]
    }
   ],
   "source": [
    "df.coordinates = list(zip(df.long, df.lat))"
   ]
  },
  {
   "cell_type": "markdown",
   "metadata": {},
   "source": [
    "## Creating list of each home's tract "
   ]
  },
  {
   "cell_type": "code",
   "execution_count": 81,
   "metadata": {
    "ExecuteTime": {
     "end_time": "2021-07-01T16:27:15.361804Z",
     "start_time": "2021-07-01T16:26:55.781168Z"
    }
   },
   "outputs": [],
   "source": [
    "tracts = []\n",
    "for coordinate in df.coordinates:\n",
    "    point = Point(coordinate)\n",
    "    found = False\n",
    "    for x in coords:\n",
    "        if x['shape'].contains(point):\n",
    "            tracts.append(x['label'])\n",
    "            found = True\n",
    "            \n",
    "    if not found:\n",
    "        tracts.append(0)\n",
    "        "
   ]
  },
  {
   "cell_type": "code",
   "execution_count": 82,
   "metadata": {
    "ExecuteTime": {
     "end_time": "2021-07-01T16:27:15.367151Z",
     "start_time": "2021-07-01T16:27:15.363606Z"
    }
   },
   "outputs": [
    {
     "data": {
      "text/plain": [
       "21597"
      ]
     },
     "execution_count": 82,
     "metadata": {},
     "output_type": "execute_result"
    }
   ],
   "source": [
    "len(tracts)"
   ]
  },
  {
   "cell_type": "code",
   "execution_count": 83,
   "metadata": {
    "ExecuteTime": {
     "end_time": "2021-07-01T16:27:15.374745Z",
     "start_time": "2021-07-01T16:27:15.370454Z"
    }
   },
   "outputs": [],
   "source": [
    "df['tracts'] = tracts"
   ]
  },
  {
   "cell_type": "code",
   "execution_count": 84,
   "metadata": {
    "ExecuteTime": {
     "end_time": "2021-07-01T16:27:15.428713Z",
     "start_time": "2021-07-01T16:27:15.377508Z"
    }
   },
   "outputs": [
    {
     "data": {
      "text/html": [
       "<div>\n",
       "<style scoped>\n",
       "    .dataframe tbody tr th:only-of-type {\n",
       "        vertical-align: middle;\n",
       "    }\n",
       "\n",
       "    .dataframe tbody tr th {\n",
       "        vertical-align: top;\n",
       "    }\n",
       "\n",
       "    .dataframe thead th {\n",
       "        text-align: right;\n",
       "    }\n",
       "</style>\n",
       "<table border=\"1\" class=\"dataframe\">\n",
       "  <thead>\n",
       "    <tr style=\"text-align: right;\">\n",
       "      <th></th>\n",
       "      <th>id</th>\n",
       "      <th>date</th>\n",
       "      <th>price</th>\n",
       "      <th>bedrooms</th>\n",
       "      <th>bathrooms</th>\n",
       "      <th>sqft_living</th>\n",
       "      <th>sqft_lot</th>\n",
       "      <th>floors</th>\n",
       "      <th>waterfront</th>\n",
       "      <th>view</th>\n",
       "      <th>...</th>\n",
       "      <th>sqft_above</th>\n",
       "      <th>sqft_basement</th>\n",
       "      <th>yr_built</th>\n",
       "      <th>yr_renovated</th>\n",
       "      <th>zipcode</th>\n",
       "      <th>lat</th>\n",
       "      <th>long</th>\n",
       "      <th>sqft_living15</th>\n",
       "      <th>sqft_lot15</th>\n",
       "      <th>tracts</th>\n",
       "    </tr>\n",
       "  </thead>\n",
       "  <tbody>\n",
       "    <tr>\n",
       "      <th>0</th>\n",
       "      <td>7129300520</td>\n",
       "      <td>10/13/2014</td>\n",
       "      <td>221900.0</td>\n",
       "      <td>3</td>\n",
       "      <td>1.00</td>\n",
       "      <td>1180</td>\n",
       "      <td>5650</td>\n",
       "      <td>1.0</td>\n",
       "      <td>NaN</td>\n",
       "      <td>0.0</td>\n",
       "      <td>...</td>\n",
       "      <td>1180</td>\n",
       "      <td>0.0</td>\n",
       "      <td>1955</td>\n",
       "      <td>0.0</td>\n",
       "      <td>98178</td>\n",
       "      <td>47.5112</td>\n",
       "      <td>-122.257</td>\n",
       "      <td>1340</td>\n",
       "      <td>5650</td>\n",
       "      <td>Tract 011900</td>\n",
       "    </tr>\n",
       "    <tr>\n",
       "      <th>1</th>\n",
       "      <td>6414100192</td>\n",
       "      <td>12/9/2014</td>\n",
       "      <td>538000.0</td>\n",
       "      <td>3</td>\n",
       "      <td>2.25</td>\n",
       "      <td>2570</td>\n",
       "      <td>7242</td>\n",
       "      <td>2.0</td>\n",
       "      <td>0.0</td>\n",
       "      <td>0.0</td>\n",
       "      <td>...</td>\n",
       "      <td>2170</td>\n",
       "      <td>400.0</td>\n",
       "      <td>1951</td>\n",
       "      <td>1991.0</td>\n",
       "      <td>98125</td>\n",
       "      <td>47.7210</td>\n",
       "      <td>-122.319</td>\n",
       "      <td>1690</td>\n",
       "      <td>7639</td>\n",
       "      <td>Tract 000200</td>\n",
       "    </tr>\n",
       "    <tr>\n",
       "      <th>2</th>\n",
       "      <td>5631500400</td>\n",
       "      <td>2/25/2015</td>\n",
       "      <td>180000.0</td>\n",
       "      <td>2</td>\n",
       "      <td>1.00</td>\n",
       "      <td>770</td>\n",
       "      <td>10000</td>\n",
       "      <td>1.0</td>\n",
       "      <td>0.0</td>\n",
       "      <td>0.0</td>\n",
       "      <td>...</td>\n",
       "      <td>770</td>\n",
       "      <td>0.0</td>\n",
       "      <td>1933</td>\n",
       "      <td>NaN</td>\n",
       "      <td>98028</td>\n",
       "      <td>47.7379</td>\n",
       "      <td>-122.233</td>\n",
       "      <td>2720</td>\n",
       "      <td>8062</td>\n",
       "      <td>Tract 022102</td>\n",
       "    </tr>\n",
       "    <tr>\n",
       "      <th>3</th>\n",
       "      <td>2487200875</td>\n",
       "      <td>12/9/2014</td>\n",
       "      <td>604000.0</td>\n",
       "      <td>4</td>\n",
       "      <td>3.00</td>\n",
       "      <td>1960</td>\n",
       "      <td>5000</td>\n",
       "      <td>1.0</td>\n",
       "      <td>0.0</td>\n",
       "      <td>0.0</td>\n",
       "      <td>...</td>\n",
       "      <td>1050</td>\n",
       "      <td>910.0</td>\n",
       "      <td>1965</td>\n",
       "      <td>0.0</td>\n",
       "      <td>98136</td>\n",
       "      <td>47.5208</td>\n",
       "      <td>-122.393</td>\n",
       "      <td>1360</td>\n",
       "      <td>5000</td>\n",
       "      <td>Tract 011600</td>\n",
       "    </tr>\n",
       "    <tr>\n",
       "      <th>4</th>\n",
       "      <td>1954400510</td>\n",
       "      <td>2/18/2015</td>\n",
       "      <td>510000.0</td>\n",
       "      <td>3</td>\n",
       "      <td>2.00</td>\n",
       "      <td>1680</td>\n",
       "      <td>8080</td>\n",
       "      <td>1.0</td>\n",
       "      <td>0.0</td>\n",
       "      <td>0.0</td>\n",
       "      <td>...</td>\n",
       "      <td>1680</td>\n",
       "      <td>0.0</td>\n",
       "      <td>1987</td>\n",
       "      <td>0.0</td>\n",
       "      <td>98074</td>\n",
       "      <td>47.6168</td>\n",
       "      <td>-122.045</td>\n",
       "      <td>1800</td>\n",
       "      <td>7503</td>\n",
       "      <td>Tract 032317</td>\n",
       "    </tr>\n",
       "    <tr>\n",
       "      <th>...</th>\n",
       "      <td>...</td>\n",
       "      <td>...</td>\n",
       "      <td>...</td>\n",
       "      <td>...</td>\n",
       "      <td>...</td>\n",
       "      <td>...</td>\n",
       "      <td>...</td>\n",
       "      <td>...</td>\n",
       "      <td>...</td>\n",
       "      <td>...</td>\n",
       "      <td>...</td>\n",
       "      <td>...</td>\n",
       "      <td>...</td>\n",
       "      <td>...</td>\n",
       "      <td>...</td>\n",
       "      <td>...</td>\n",
       "      <td>...</td>\n",
       "      <td>...</td>\n",
       "      <td>...</td>\n",
       "      <td>...</td>\n",
       "      <td>...</td>\n",
       "    </tr>\n",
       "    <tr>\n",
       "      <th>21592</th>\n",
       "      <td>263000018</td>\n",
       "      <td>5/21/2014</td>\n",
       "      <td>360000.0</td>\n",
       "      <td>3</td>\n",
       "      <td>2.50</td>\n",
       "      <td>1530</td>\n",
       "      <td>1131</td>\n",
       "      <td>3.0</td>\n",
       "      <td>0.0</td>\n",
       "      <td>0.0</td>\n",
       "      <td>...</td>\n",
       "      <td>1530</td>\n",
       "      <td>0.0</td>\n",
       "      <td>2009</td>\n",
       "      <td>0.0</td>\n",
       "      <td>98103</td>\n",
       "      <td>47.6993</td>\n",
       "      <td>-122.346</td>\n",
       "      <td>1530</td>\n",
       "      <td>1509</td>\n",
       "      <td>Tract 001300</td>\n",
       "    </tr>\n",
       "    <tr>\n",
       "      <th>21593</th>\n",
       "      <td>6600060120</td>\n",
       "      <td>2/23/2015</td>\n",
       "      <td>400000.0</td>\n",
       "      <td>4</td>\n",
       "      <td>2.50</td>\n",
       "      <td>2310</td>\n",
       "      <td>5813</td>\n",
       "      <td>2.0</td>\n",
       "      <td>0.0</td>\n",
       "      <td>0.0</td>\n",
       "      <td>...</td>\n",
       "      <td>2310</td>\n",
       "      <td>0.0</td>\n",
       "      <td>2014</td>\n",
       "      <td>0.0</td>\n",
       "      <td>98146</td>\n",
       "      <td>47.5107</td>\n",
       "      <td>-122.362</td>\n",
       "      <td>1830</td>\n",
       "      <td>7200</td>\n",
       "      <td>Tract 026600</td>\n",
       "    </tr>\n",
       "    <tr>\n",
       "      <th>21594</th>\n",
       "      <td>1523300141</td>\n",
       "      <td>6/23/2014</td>\n",
       "      <td>402101.0</td>\n",
       "      <td>2</td>\n",
       "      <td>0.75</td>\n",
       "      <td>1020</td>\n",
       "      <td>1350</td>\n",
       "      <td>2.0</td>\n",
       "      <td>0.0</td>\n",
       "      <td>0.0</td>\n",
       "      <td>...</td>\n",
       "      <td>1020</td>\n",
       "      <td>0.0</td>\n",
       "      <td>2009</td>\n",
       "      <td>0.0</td>\n",
       "      <td>98144</td>\n",
       "      <td>47.5944</td>\n",
       "      <td>-122.299</td>\n",
       "      <td>1020</td>\n",
       "      <td>2007</td>\n",
       "      <td>Tract 008900</td>\n",
       "    </tr>\n",
       "    <tr>\n",
       "      <th>21595</th>\n",
       "      <td>291310100</td>\n",
       "      <td>1/16/2015</td>\n",
       "      <td>400000.0</td>\n",
       "      <td>3</td>\n",
       "      <td>2.50</td>\n",
       "      <td>1600</td>\n",
       "      <td>2388</td>\n",
       "      <td>2.0</td>\n",
       "      <td>NaN</td>\n",
       "      <td>0.0</td>\n",
       "      <td>...</td>\n",
       "      <td>1600</td>\n",
       "      <td>0.0</td>\n",
       "      <td>2004</td>\n",
       "      <td>0.0</td>\n",
       "      <td>98027</td>\n",
       "      <td>47.5345</td>\n",
       "      <td>-122.069</td>\n",
       "      <td>1410</td>\n",
       "      <td>1287</td>\n",
       "      <td>Tract 025006</td>\n",
       "    </tr>\n",
       "    <tr>\n",
       "      <th>21596</th>\n",
       "      <td>1523300157</td>\n",
       "      <td>10/15/2014</td>\n",
       "      <td>325000.0</td>\n",
       "      <td>2</td>\n",
       "      <td>0.75</td>\n",
       "      <td>1020</td>\n",
       "      <td>1076</td>\n",
       "      <td>2.0</td>\n",
       "      <td>0.0</td>\n",
       "      <td>0.0</td>\n",
       "      <td>...</td>\n",
       "      <td>1020</td>\n",
       "      <td>0.0</td>\n",
       "      <td>2008</td>\n",
       "      <td>0.0</td>\n",
       "      <td>98144</td>\n",
       "      <td>47.5941</td>\n",
       "      <td>-122.299</td>\n",
       "      <td>1020</td>\n",
       "      <td>1357</td>\n",
       "      <td>Tract 008900</td>\n",
       "    </tr>\n",
       "  </tbody>\n",
       "</table>\n",
       "<p>21597 rows × 22 columns</p>\n",
       "</div>"
      ],
      "text/plain": [
       "               id        date     price  bedrooms  bathrooms  sqft_living  \\\n",
       "0      7129300520  10/13/2014  221900.0         3       1.00         1180   \n",
       "1      6414100192   12/9/2014  538000.0         3       2.25         2570   \n",
       "2      5631500400   2/25/2015  180000.0         2       1.00          770   \n",
       "3      2487200875   12/9/2014  604000.0         4       3.00         1960   \n",
       "4      1954400510   2/18/2015  510000.0         3       2.00         1680   \n",
       "...           ...         ...       ...       ...        ...          ...   \n",
       "21592   263000018   5/21/2014  360000.0         3       2.50         1530   \n",
       "21593  6600060120   2/23/2015  400000.0         4       2.50         2310   \n",
       "21594  1523300141   6/23/2014  402101.0         2       0.75         1020   \n",
       "21595   291310100   1/16/2015  400000.0         3       2.50         1600   \n",
       "21596  1523300157  10/15/2014  325000.0         2       0.75         1020   \n",
       "\n",
       "       sqft_lot  floors  waterfront  view  ...  sqft_above  sqft_basement  \\\n",
       "0          5650     1.0         NaN   0.0  ...        1180            0.0   \n",
       "1          7242     2.0         0.0   0.0  ...        2170          400.0   \n",
       "2         10000     1.0         0.0   0.0  ...         770            0.0   \n",
       "3          5000     1.0         0.0   0.0  ...        1050          910.0   \n",
       "4          8080     1.0         0.0   0.0  ...        1680            0.0   \n",
       "...         ...     ...         ...   ...  ...         ...            ...   \n",
       "21592      1131     3.0         0.0   0.0  ...        1530            0.0   \n",
       "21593      5813     2.0         0.0   0.0  ...        2310            0.0   \n",
       "21594      1350     2.0         0.0   0.0  ...        1020            0.0   \n",
       "21595      2388     2.0         NaN   0.0  ...        1600            0.0   \n",
       "21596      1076     2.0         0.0   0.0  ...        1020            0.0   \n",
       "\n",
       "       yr_built yr_renovated  zipcode      lat     long  sqft_living15  \\\n",
       "0          1955          0.0    98178  47.5112 -122.257           1340   \n",
       "1          1951       1991.0    98125  47.7210 -122.319           1690   \n",
       "2          1933          NaN    98028  47.7379 -122.233           2720   \n",
       "3          1965          0.0    98136  47.5208 -122.393           1360   \n",
       "4          1987          0.0    98074  47.6168 -122.045           1800   \n",
       "...         ...          ...      ...      ...      ...            ...   \n",
       "21592      2009          0.0    98103  47.6993 -122.346           1530   \n",
       "21593      2014          0.0    98146  47.5107 -122.362           1830   \n",
       "21594      2009          0.0    98144  47.5944 -122.299           1020   \n",
       "21595      2004          0.0    98027  47.5345 -122.069           1410   \n",
       "21596      2008          0.0    98144  47.5941 -122.299           1020   \n",
       "\n",
       "       sqft_lot15        tracts  \n",
       "0            5650  Tract 011900  \n",
       "1            7639  Tract 000200  \n",
       "2            8062  Tract 022102  \n",
       "3            5000  Tract 011600  \n",
       "4            7503  Tract 032317  \n",
       "...           ...           ...  \n",
       "21592        1509  Tract 001300  \n",
       "21593        7200  Tract 026600  \n",
       "21594        2007  Tract 008900  \n",
       "21595        1287  Tract 025006  \n",
       "21596        1357  Tract 008900  \n",
       "\n",
       "[21597 rows x 22 columns]"
      ]
     },
     "execution_count": 84,
     "metadata": {},
     "output_type": "execute_result"
    }
   ],
   "source": [
    "df"
   ]
  },
  {
   "cell_type": "code",
   "execution_count": 246,
   "metadata": {},
   "outputs": [],
   "source": [
    "#df.to_csv('housing_data.csv')"
   ]
  }
 ],
 "metadata": {
  "kernelspec": {
   "display_name": "learn-env",
   "language": "python",
   "name": "learn-env"
  },
  "language_info": {
   "codemirror_mode": {
    "name": "ipython",
    "version": 3
   },
   "file_extension": ".py",
   "mimetype": "text/x-python",
   "name": "python",
   "nbconvert_exporter": "python",
   "pygments_lexer": "ipython3",
   "version": "3.8.5"
  }
 },
 "nbformat": 4,
 "nbformat_minor": 5
}
