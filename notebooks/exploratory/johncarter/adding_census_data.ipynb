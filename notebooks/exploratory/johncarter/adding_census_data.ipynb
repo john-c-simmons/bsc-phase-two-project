{
 "cells": [
  {
   "cell_type": "markdown",
   "metadata": {},
   "source": [
    "## Importing shapely and json and King County demographic data as a .geojson and King County house data .csv"
   ]
  },
  {
   "cell_type": "code",
   "execution_count": 28,
   "metadata": {
    "ExecuteTime": {
     "end_time": "2021-07-02T01:35:36.837283Z",
     "start_time": "2021-07-02T01:35:36.510217Z"
    }
   },
   "outputs": [],
   "source": [
    "from shapely.geometry import Point, Polygon\n",
    "import json\n",
    "import pandas as pd\n",
    "with open('../../../data/Consolidated_Demographics_Index_for_King_County_Census_Tracts___demographic_index_area.geojson') as f:\n",
    "    census_tract = json.load(f)\n",
    "df = pd.read_csv('../../../data/kc_house_data.csv')"
   ]
  },
  {
   "cell_type": "code",
   "execution_count": 29,
   "metadata": {
    "ExecuteTime": {
     "end_time": "2021-07-02T01:35:36.844017Z",
     "start_time": "2021-07-02T01:35:36.839760Z"
    }
   },
   "outputs": [
    {
     "data": {
      "image/svg+xml": [
       "<svg xmlns=\"http://www.w3.org/2000/svg\" xmlns:xlink=\"http://www.w3.org/1999/xlink\" width=\"100.0\" height=\"100.0\" viewBox=\"-122.3639258398838 47.68999854829573 0.014594415029790753 0.015665380962126108\" preserveAspectRatio=\"xMinYMin meet\"><g transform=\"matrix(1,0,0,-1,0,95.3956624775536)\"><path fill-rule=\"evenodd\" fill=\"#66cc99\" stroke=\"#555555\" stroke-width=\"0.00031330761924252214\" opacity=\"0.6\" d=\"M -122.35007368859192,47.70506774138125 L -122.3508046885068,47.70506573957841 L -122.35142368863194,47.705071738733295 L -122.35276368968567,47.70507573553006 L -122.35411168928309,47.70507973312016 L -122.35545268990859,47.705083729962965 L -122.3554446855053,47.704358730514315 L -122.355437682169,47.70363473063563 L -122.3554296795306,47.70290973111566 L -122.35542267659872,47.70218573118392 L -122.35541467306082,47.701460731628735 L -122.35540066668275,47.700111732853564 L -122.35539566463787,47.699649732873574 L -122.35537665754009,47.69783873395591 L -122.355358648499,47.696027735061136 L -122.35533964135259,47.694216735859314 L -122.35667964128264,47.69422273312396 L -122.35738764039525,47.69422473148086 L -122.35801964061926,47.69422773047338 L -122.35935964073356,47.69423372772418 L -122.36067664162917,47.69423872470319 L -122.36201064166708,47.694243722257454 L -122.36334564058892,47.69424971994998 L -122.36334063779131,47.6935257197778 L -122.36333563515961,47.69280172048018 L -122.3633306310271,47.69206572125083 L -122.36332562781018,47.69136472140533 L -122.3633206255692,47.69064072113527 L -122.36064762534599,47.69062572686164 L -122.35931962514914,47.69061872978451 L -122.35798162483506,47.69061073190941 L -122.35664162549348,47.69060273425791 L -122.35530162437524,47.690594737074754 L -122.3539316253831,47.69059073993962 L -122.3526016251667,47.69058674277553 L -122.35134362467815,47.690583744809906 L -122.3499116241489,47.69057874759063 L -122.3499206284696,47.691303747937745 L -122.34992963179373,47.69202774701146 L -122.34993363311231,47.69240174678874 L -122.34993763448396,47.692753746616035 L -122.34992163772219,47.69347574653743 L -122.34993464129582,47.69420174611989 L -122.34994864352129,47.694925746055105 L -122.3499716471037,47.69565074530337 L -122.34997664851126,47.696012745323884 L -122.3499846526323,47.69675974526087 L -122.3499866532635,47.69687774464873 L -122.34999765740697,47.697823744033656 L -122.35000866142057,47.69872974406752 L -122.35001866512947,47.699634743516754 L -122.35002966866926,47.70053974312021 L -122.35003367044574,47.70098874314765 L -122.35003967298451,47.701445742854254 L -122.3500416765209,47.702169742091776 L -122.35004967980935,47.702894741903684 L -122.35005768209682,47.703618741340314 L -122.35006568596582,47.70434274163174 L -122.35007368859192,47.70506774138125 z\" /></g></svg>"
      ],
      "text/plain": [
       "<shapely.geometry.polygon.Polygon at 0x7f99fa3b79a0>"
      ]
     },
     "execution_count": 29,
     "metadata": {},
     "output_type": "execute_result"
    }
   ],
   "source": [
    "Polygon(census_tract['features'][0]['geometry']['coordinates'][0])"
   ]
  },
  {
   "cell_type": "markdown",
   "metadata": {},
   "source": [
    "## Creating a list of dictionaries containing the name of each tract as keys and the coordinates, converted into a polygon, as the values of each dictionary. "
   ]
  },
  {
   "cell_type": "code",
   "execution_count": 30,
   "metadata": {
    "ExecuteTime": {
     "end_time": "2021-07-02T01:35:37.050453Z",
     "start_time": "2021-07-02T01:35:37.025011Z"
    }
   },
   "outputs": [],
   "source": [
    "coords = []\n",
    "\n",
    "for x in census_tract['features']:\n",
    "    d = {}\n",
    "    d['label'] = x['properties']['TRACT_LBL']\n",
    "    shape = x['geometry']['coordinates']\n",
    "    if len(shape) != 1:\n",
    "        d['shape'] = Polygon(shape[0][0]+shape[1][0])  #accounts for census tracts consisting of more than one polygon\n",
    "    else:\n",
    "        d[\"shape\"] = Polygon(shape[0])\n",
    "    coords.append(d)"
   ]
  },
  {
   "cell_type": "markdown",
   "metadata": {},
   "source": [
    "### coordinates and shape of a random (20th) census tract"
   ]
  },
  {
   "cell_type": "code",
   "execution_count": 31,
   "metadata": {
    "ExecuteTime": {
     "end_time": "2021-07-02T01:35:38.482166Z",
     "start_time": "2021-07-02T01:35:38.476287Z"
    }
   },
   "outputs": [
    {
     "data": {
      "text/plain": [
       "{'label': 'Tract 001100',\n",
       " 'shape': <shapely.geometry.polygon.Polygon at 0x7f99fa3b7d00>}"
      ]
     },
     "execution_count": 31,
     "metadata": {},
     "output_type": "execute_result"
    }
   ],
   "source": [
    "coords[20]"
   ]
  },
  {
   "cell_type": "code",
   "execution_count": 32,
   "metadata": {
    "ExecuteTime": {
     "end_time": "2021-07-02T01:35:39.860420Z",
     "start_time": "2021-07-02T01:35:39.853626Z"
    }
   },
   "outputs": [
    {
     "data": {
      "image/svg+xml": [
       "<svg xmlns=\"http://www.w3.org/2000/svg\" xmlns:xlink=\"http://www.w3.org/1999/xlink\" width=\"100.0\" height=\"100.0\" viewBox=\"-122.31295060125274 47.69975495702386 0.01395576129320375 0.012928738446895238\" preserveAspectRatio=\"xMinYMin meet\"><g transform=\"matrix(1,0,0,-1,0,95.41243865249461)\"><path fill-rule=\"evenodd\" fill=\"#66cc99\" stroke=\"#555555\" stroke-width=\"0.000279115225864075\" opacity=\"0.6\" d=\"M -122.29951172000743,47.71204384186288 L -122.30034971969164,47.71205184033985 L -122.30174172087771,47.71206583736125 L -122.3030787199128,47.712077834861276 L -122.30441472063941,47.71209083172569 L -122.30575071982824,47.71210382915775 L -122.3062827210043,47.71210882749846 L -122.3070877207596,47.71211582642951 L -122.30815072047412,47.71212582382932 L -122.30842472050021,47.71212882369481 L -122.30979872052932,47.712144821080734 L -122.30999972037318,47.71214682027076 L -122.3110937203948,47.712153817676295 L -122.31243372120484,47.71216681542286 L -122.31243271677236,47.71133281573778 L -122.3124317121117,47.7103568159743 L -122.3124307046105,47.708528815861094 L -122.31242969673171,47.70669981702627 L -122.3124296957881,47.70642581684583 L -122.31242969188162,47.70553081734386 L -122.31242968814568,47.704883816873405 L -122.31242868800007,47.704860817178755 L -122.31238568375943,47.70397581774405 L -122.31234168041344,47.70306681820753 L -122.31229767641462,47.70215881809733 L -122.31225367215114,47.701249818496954 L -122.31132467239365,47.70123882020503 L -122.31111567175606,47.701238821280256 L -122.31092467152752,47.701239821090404 L -122.30958567263394,47.7012288239813 L -122.30955066826846,47.700320824663876 L -122.30787866837052,47.700307827310155 L -122.30689166783658,47.70029982930387 L -122.30423266734323,47.70027883492392 L -122.30331766754963,47.70027183707176 L -122.30255167150587,47.70117183834838 L -122.30218167433698,47.7016268384758 L -122.30191167621992,47.702072839462566 L -122.30171967790763,47.702553839603276 L -122.30162867946358,47.70297583914836 L -122.30162468065431,47.70302983953749 L -122.30160468059181,47.70328383950887 L -122.30161268542858,47.704199839109826 L -122.3017506870137,47.704632838930145 L -122.30179168744955,47.70476083901257 L -122.30161568639815,47.70456783939332 L -122.30161668808351,47.704745838893466 L -122.30161668801186,47.704811838782256 L -122.30162069019828,47.70535583875046 L -122.30162669389725,47.7062058389655 L -122.30163169671069,47.7067008384195 L -122.30159969840216,47.707156838279886 L -122.30153770044305,47.70762083867159 L -122.30149970147204,47.70778483890375 L -122.30135470432356,47.70842583870946 L -122.30116770673648,47.70899183893888 L -122.3009847081007,47.70944083965237 L -122.30077171004659,47.7098838399222 L -122.30047271308793,47.71041984032977 L -122.29951172000743,47.71204384186288 z\" /></g></svg>"
      ],
      "text/plain": [
       "<shapely.geometry.polygon.Polygon at 0x7f99fa3b7d00>"
      ]
     },
     "execution_count": 32,
     "metadata": {},
     "output_type": "execute_result"
    }
   ],
   "source": [
    "coords[20]['shape']"
   ]
  },
  {
   "cell_type": "markdown",
   "metadata": {},
   "source": [
    "## making column of home coordinates by zipping long and lat columns from housing data frame"
   ]
  },
  {
   "cell_type": "code",
   "execution_count": 33,
   "metadata": {
    "ExecuteTime": {
     "end_time": "2021-07-02T01:35:41.137375Z",
     "start_time": "2021-07-02T01:35:41.125182Z"
    }
   },
   "outputs": [
    {
     "name": "stderr",
     "output_type": "stream",
     "text": [
      "<ipython-input-33-4db589e91429>:1: UserWarning: Pandas doesn't allow columns to be created via a new attribute name - see https://pandas.pydata.org/pandas-docs/stable/indexing.html#attribute-access\n",
      "  df.coordinates = list(zip(df.long, df.lat))\n"
     ]
    }
   ],
   "source": [
    "df.coordinates = list(zip(df.long, df.lat))"
   ]
  },
  {
   "cell_type": "markdown",
   "metadata": {},
   "source": [
    "## Creating list of each home's tract, putting a 0 for any homes that were not within any tract. There were 29 such homes."
   ]
  },
  {
   "cell_type": "code",
   "execution_count": 43,
   "metadata": {
    "ExecuteTime": {
     "end_time": "2021-07-02T01:37:34.824729Z",
     "start_time": "2021-07-02T01:37:15.760913Z"
    }
   },
   "outputs": [],
   "source": [
    "tracts = []\n",
    "for coordinate in df.coordinates:\n",
    "    point = Point(coordinate)\n",
    "    found = False\n",
    "    for x in coords:\n",
    "        if x['shape'].contains(point):\n",
    "            tracts.append(x['label'])\n",
    "            found = True       \n",
    "    if not found:\n",
    "        tracts.append(0)\n",
    "        "
   ]
  },
  {
   "cell_type": "markdown",
   "metadata": {},
   "source": [
    "## ensuring "
   ]
  },
  {
   "cell_type": "code",
   "execution_count": 44,
   "metadata": {
    "ExecuteTime": {
     "end_time": "2021-07-02T01:37:37.941775Z",
     "start_time": "2021-07-02T01:37:37.936678Z"
    },
    "scrolled": true
   },
   "outputs": [
    {
     "name": "stdout",
     "output_type": "stream",
     "text": [
      "21597 21597\n"
     ]
    }
   ],
   "source": [
    "print(len(tracts), len(df))"
   ]
  },
  {
   "cell_type": "markdown",
   "metadata": {},
   "source": [
    "## Creating column in KC house data frame from list of census tracts."
   ]
  },
  {
   "cell_type": "code",
   "execution_count": 45,
   "metadata": {
    "ExecuteTime": {
     "end_time": "2021-07-02T01:37:40.970281Z",
     "start_time": "2021-07-02T01:37:40.964889Z"
    }
   },
   "outputs": [],
   "source": [
    "df['tracts'] = tracts"
   ]
  },
  {
   "cell_type": "markdown",
   "metadata": {
    "ExecuteTime": {
     "end_time": "2021-07-02T01:37:09.021616Z",
     "start_time": "2021-07-02T01:37:08.999998Z"
    }
   },
   "source": [
    "## Exporting to .csv"
   ]
  },
  {
   "cell_type": "markdown",
   "metadata": {
    "ExecuteTime": {
     "end_time": "2021-07-02T01:37:42.635923Z",
     "start_time": "2021-07-02T01:37:42.627958Z"
    }
   },
   "source": []
  },
  {
   "cell_type": "code",
   "execution_count": 246,
   "metadata": {},
   "outputs": [],
   "source": [
    "#df.to_csv('housing_data.csv')"
   ]
  }
 ],
 "metadata": {
  "kernelspec": {
   "display_name": "learn-env",
   "language": "python",
   "name": "learn-env"
  },
  "language_info": {
   "codemirror_mode": {
    "name": "ipython",
    "version": 3
   },
   "file_extension": ".py",
   "mimetype": "text/x-python",
   "name": "python",
   "nbconvert_exporter": "python",
   "pygments_lexer": "ipython3",
   "version": "3.8.5"
  }
 },
 "nbformat": 4,
 "nbformat_minor": 5
}
