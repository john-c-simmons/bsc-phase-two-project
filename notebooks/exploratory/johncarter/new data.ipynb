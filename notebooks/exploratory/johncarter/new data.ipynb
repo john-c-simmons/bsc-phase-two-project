{
 "cells": [
  {
   "cell_type": "code",
   "execution_count": 37,
   "id": "3ea30628-8b1e-495c-aa2c-7f6bbfea006d",
   "metadata": {},
   "outputs": [],
   "source": [
    "import pandas as pd\n",
    "\n",
    "# import packages\n",
    "import numpy as np\n",
    "import matplotlib.pyplot as plt\n",
    "import seaborn as sns\n",
    "from scipy import stats\n",
    "from sklearn.linear_model import LinearRegression\n",
    "from sklearn.model_selection import train_test_split\n",
    "from sklearn.impute import SimpleImputer\n",
    "from sklearn.preprocessing import StandardScaler\n",
    "from sklearn.metrics import mean_squared_error as mse\n",
    "%matplotlib inline\n",
    "from sklearn.preprocessing import OneHotEncoder\n",
    "from xgboost import XGBRegressor\n",
    "from sklearn.model_selection import GridSearchCV, train_test_split, KFold \n",
    "from sklearn.model_selection import cross_val_score\n",
    "from sklearn import linear_model, metrics\n",
    "from sklearn.metrics import mean_squared_error, r2_score\n",
    "from sklearn.preprocessing import MinMaxScaler \n",
    "df = pd.read_csv('house_data_census.csv')"
   ]
  },
  {
   "cell_type": "code",
   "execution_count": 38,
   "id": "f9317ba1-a94c-4f44-a57f-bee981ac4a85",
   "metadata": {},
   "outputs": [],
   "source": [
    "df = df[df.tracts != '0']\n",
    "df = df.replace('?', np.nan)\n",
    "df.sqft_basement = df.sqft_basement.replace('?', np.nan)\n",
    "df.sqft_basement = df.sqft_basement.astype(float)\n",
    "df = df.replace(np.nan, 0)\n",
    "df['compared_to_neighbors'] = df['sqft_living']/df['sqft_living15']\n"
   ]
  },
  {
   "cell_type": "code",
   "execution_count": 39,
   "id": "4ff51dd8-7df4-45ab-a8af-77bf7d638772",
   "metadata": {},
   "outputs": [],
   "source": [
    "df['tract_num'] = df.tracts.str[5:]\n",
    "df.tract_num  = df.tract_num.astype(int)"
   ]
  },
  {
   "cell_type": "code",
   "execution_count": 40,
   "id": "8889e36a-308f-447f-b8a1-cea217573118",
   "metadata": {},
   "outputs": [
    {
     "data": {
      "text/plain": [
       "Index(['field_1', 'id', 'date', 'price', 'bedrooms', 'bathrooms',\n",
       "       'sqft_living', 'sqft_lot', 'floors', 'waterfront', 'view', 'condition',\n",
       "       'grade', 'sqft_above', 'sqft_basement', 'yr_built', 'yr_renovated',\n",
       "       'zipcode', 'lat', 'long', 'sqft_living15', 'sqft_lot15', 'tracts',\n",
       "       'ESL_Score', 'Income_Sco', 'RE_Score', 'TotalScore', 'WeightedTo',\n",
       "       'PercentESL', 'MedianHous', 'PercentPOC', 'compared_to_neighbors',\n",
       "       'tract_num'],\n",
       "      dtype='object')"
      ]
     },
     "execution_count": 40,
     "metadata": {},
     "output_type": "execute_result"
    }
   ],
   "source": [
    "df.columns"
   ]
  },
  {
   "cell_type": "code",
   "execution_count": 41,
   "id": "88605399-d00f-4a67-9ea4-2038a1cc74a0",
   "metadata": {},
   "outputs": [],
   "source": [
    "X = df.copy()\n",
    "y = df.price\n",
    "\n",
    "X_train, X_test, y_train, y_test = train_test_split(X, y, test_size=.25, random_state=42)\n"
   ]
  },
  {
   "cell_type": "code",
   "execution_count": 42,
   "id": "e58fbd84-1030-442a-aa13-0145355979e6",
   "metadata": {},
   "outputs": [
    {
     "data": {
      "text/html": [
       "<div>\n",
       "<style scoped>\n",
       "    .dataframe tbody tr th:only-of-type {\n",
       "        vertical-align: middle;\n",
       "    }\n",
       "\n",
       "    .dataframe tbody tr th {\n",
       "        vertical-align: top;\n",
       "    }\n",
       "\n",
       "    .dataframe thead th {\n",
       "        text-align: right;\n",
       "    }\n",
       "</style>\n",
       "<table border=\"1\" class=\"dataframe\">\n",
       "  <thead>\n",
       "    <tr style=\"text-align: right;\">\n",
       "      <th></th>\n",
       "      <th>field_1</th>\n",
       "      <th>id</th>\n",
       "      <th>date</th>\n",
       "      <th>price</th>\n",
       "      <th>bedrooms</th>\n",
       "      <th>bathrooms</th>\n",
       "      <th>sqft_living</th>\n",
       "      <th>sqft_lot</th>\n",
       "      <th>floors</th>\n",
       "      <th>waterfront</th>\n",
       "      <th>...</th>\n",
       "      <th>ESL_Score</th>\n",
       "      <th>Income_Sco</th>\n",
       "      <th>RE_Score</th>\n",
       "      <th>TotalScore</th>\n",
       "      <th>WeightedTo</th>\n",
       "      <th>PercentESL</th>\n",
       "      <th>MedianHous</th>\n",
       "      <th>PercentPOC</th>\n",
       "      <th>compared_to_neighbors</th>\n",
       "      <th>tract_num</th>\n",
       "    </tr>\n",
       "  </thead>\n",
       "  <tbody>\n",
       "    <tr>\n",
       "      <th>15981</th>\n",
       "      <td>15981</td>\n",
       "      <td>7625700305</td>\n",
       "      <td>6/5/2014</td>\n",
       "      <td>564000</td>\n",
       "      <td>3</td>\n",
       "      <td>1.75</td>\n",
       "      <td>1980</td>\n",
       "      <td>6250</td>\n",
       "      <td>1.0</td>\n",
       "      <td>0.0</td>\n",
       "      <td>...</td>\n",
       "      <td>2.0</td>\n",
       "      <td>4.0</td>\n",
       "      <td>1.0</td>\n",
       "      <td>7.0</td>\n",
       "      <td>2.333333</td>\n",
       "      <td>4.860739</td>\n",
       "      <td>77760.0</td>\n",
       "      <td>21.585431</td>\n",
       "      <td>1.000000</td>\n",
       "      <td>10500</td>\n",
       "    </tr>\n",
       "    <tr>\n",
       "      <th>9576</th>\n",
       "      <td>9576</td>\n",
       "      <td>1400700150</td>\n",
       "      <td>7/22/2014</td>\n",
       "      <td>730000</td>\n",
       "      <td>4</td>\n",
       "      <td>2.50</td>\n",
       "      <td>3550</td>\n",
       "      <td>35689</td>\n",
       "      <td>2.0</td>\n",
       "      <td>0.0</td>\n",
       "      <td>...</td>\n",
       "      <td>1.0</td>\n",
       "      <td>2.0</td>\n",
       "      <td>1.0</td>\n",
       "      <td>4.0</td>\n",
       "      <td>1.333333</td>\n",
       "      <td>2.503230</td>\n",
       "      <td>128086.0</td>\n",
       "      <td>18.104005</td>\n",
       "      <td>1.059701</td>\n",
       "      <td>32311</td>\n",
       "    </tr>\n",
       "    <tr>\n",
       "      <th>1212</th>\n",
       "      <td>1212</td>\n",
       "      <td>1026049082</td>\n",
       "      <td>11/25/2014</td>\n",
       "      <td>500000</td>\n",
       "      <td>4</td>\n",
       "      <td>2.00</td>\n",
       "      <td>2760</td>\n",
       "      <td>27631</td>\n",
       "      <td>2.0</td>\n",
       "      <td>0.0</td>\n",
       "      <td>...</td>\n",
       "      <td>1.0</td>\n",
       "      <td>3.0</td>\n",
       "      <td>1.0</td>\n",
       "      <td>5.0</td>\n",
       "      <td>1.666667</td>\n",
       "      <td>1.516684</td>\n",
       "      <td>106058.0</td>\n",
       "      <td>20.020222</td>\n",
       "      <td>1.108434</td>\n",
       "      <td>21400</td>\n",
       "    </tr>\n",
       "    <tr>\n",
       "      <th>18840</th>\n",
       "      <td>18840</td>\n",
       "      <td>6638900405</td>\n",
       "      <td>12/8/2014</td>\n",
       "      <td>405000</td>\n",
       "      <td>2</td>\n",
       "      <td>1.00</td>\n",
       "      <td>800</td>\n",
       "      <td>6016</td>\n",
       "      <td>1.0</td>\n",
       "      <td>0.0</td>\n",
       "      <td>...</td>\n",
       "      <td>2.0</td>\n",
       "      <td>4.0</td>\n",
       "      <td>2.0</td>\n",
       "      <td>8.0</td>\n",
       "      <td>2.666667</td>\n",
       "      <td>5.608444</td>\n",
       "      <td>69177.0</td>\n",
       "      <td>25.186258</td>\n",
       "      <td>0.544218</td>\n",
       "      <td>1702</td>\n",
       "    </tr>\n",
       "    <tr>\n",
       "      <th>20748</th>\n",
       "      <td>20748</td>\n",
       "      <td>9536600810</td>\n",
       "      <td>7/8/2014</td>\n",
       "      <td>380000</td>\n",
       "      <td>4</td>\n",
       "      <td>2.50</td>\n",
       "      <td>1984</td>\n",
       "      <td>32400</td>\n",
       "      <td>1.0</td>\n",
       "      <td>0.0</td>\n",
       "      <td>...</td>\n",
       "      <td>3.0</td>\n",
       "      <td>4.0</td>\n",
       "      <td>4.0</td>\n",
       "      <td>11.0</td>\n",
       "      <td>3.666667</td>\n",
       "      <td>10.023828</td>\n",
       "      <td>70783.0</td>\n",
       "      <td>49.467832</td>\n",
       "      <td>1.427338</td>\n",
       "      <td>30003</td>\n",
       "    </tr>\n",
       "    <tr>\n",
       "      <th>...</th>\n",
       "      <td>...</td>\n",
       "      <td>...</td>\n",
       "      <td>...</td>\n",
       "      <td>...</td>\n",
       "      <td>...</td>\n",
       "      <td>...</td>\n",
       "      <td>...</td>\n",
       "      <td>...</td>\n",
       "      <td>...</td>\n",
       "      <td>...</td>\n",
       "      <td>...</td>\n",
       "      <td>...</td>\n",
       "      <td>...</td>\n",
       "      <td>...</td>\n",
       "      <td>...</td>\n",
       "      <td>...</td>\n",
       "      <td>...</td>\n",
       "      <td>...</td>\n",
       "      <td>...</td>\n",
       "      <td>...</td>\n",
       "      <td>...</td>\n",
       "    </tr>\n",
       "    <tr>\n",
       "      <th>11296</th>\n",
       "      <td>11296</td>\n",
       "      <td>2407900550</td>\n",
       "      <td>5/7/2015</td>\n",
       "      <td>448000</td>\n",
       "      <td>4</td>\n",
       "      <td>2.50</td>\n",
       "      <td>2230</td>\n",
       "      <td>5000</td>\n",
       "      <td>1.0</td>\n",
       "      <td>0.0</td>\n",
       "      <td>...</td>\n",
       "      <td>1.0</td>\n",
       "      <td>3.0</td>\n",
       "      <td>2.0</td>\n",
       "      <td>6.0</td>\n",
       "      <td>2.000000</td>\n",
       "      <td>4.137727</td>\n",
       "      <td>94844.0</td>\n",
       "      <td>27.220334</td>\n",
       "      <td>1.066986</td>\n",
       "      <td>31903</td>\n",
       "    </tr>\n",
       "    <tr>\n",
       "      <th>11977</th>\n",
       "      <td>11977</td>\n",
       "      <td>1066100260</td>\n",
       "      <td>6/20/2014</td>\n",
       "      <td>681500</td>\n",
       "      <td>5</td>\n",
       "      <td>2.75</td>\n",
       "      <td>3260</td>\n",
       "      <td>11700</td>\n",
       "      <td>1.0</td>\n",
       "      <td>0.0</td>\n",
       "      <td>...</td>\n",
       "      <td>2.0</td>\n",
       "      <td>2.0</td>\n",
       "      <td>2.0</td>\n",
       "      <td>6.0</td>\n",
       "      <td>2.000000</td>\n",
       "      <td>8.611701</td>\n",
       "      <td>125729.0</td>\n",
       "      <td>29.523074</td>\n",
       "      <td>1.139860</td>\n",
       "      <td>23000</td>\n",
       "    </tr>\n",
       "    <tr>\n",
       "      <th>5397</th>\n",
       "      <td>5397</td>\n",
       "      <td>6918100170</td>\n",
       "      <td>3/19/2015</td>\n",
       "      <td>250000</td>\n",
       "      <td>4</td>\n",
       "      <td>3.00</td>\n",
       "      <td>2250</td>\n",
       "      <td>7882</td>\n",
       "      <td>2.0</td>\n",
       "      <td>0.0</td>\n",
       "      <td>...</td>\n",
       "      <td>3.0</td>\n",
       "      <td>4.0</td>\n",
       "      <td>4.0</td>\n",
       "      <td>11.0</td>\n",
       "      <td>3.666667</td>\n",
       "      <td>10.023828</td>\n",
       "      <td>70783.0</td>\n",
       "      <td>49.467832</td>\n",
       "      <td>1.451613</td>\n",
       "      <td>30003</td>\n",
       "    </tr>\n",
       "    <tr>\n",
       "      <th>860</th>\n",
       "      <td>860</td>\n",
       "      <td>1723049033</td>\n",
       "      <td>6/20/2014</td>\n",
       "      <td>245000</td>\n",
       "      <td>1</td>\n",
       "      <td>0.75</td>\n",
       "      <td>380</td>\n",
       "      <td>15000</td>\n",
       "      <td>1.0</td>\n",
       "      <td>0.0</td>\n",
       "      <td>...</td>\n",
       "      <td>3.0</td>\n",
       "      <td>4.0</td>\n",
       "      <td>4.0</td>\n",
       "      <td>11.0</td>\n",
       "      <td>3.666667</td>\n",
       "      <td>13.935250</td>\n",
       "      <td>67103.0</td>\n",
       "      <td>54.956767</td>\n",
       "      <td>0.324786</td>\n",
       "      <td>27400</td>\n",
       "    </tr>\n",
       "    <tr>\n",
       "      <th>15814</th>\n",
       "      <td>15814</td>\n",
       "      <td>4139420190</td>\n",
       "      <td>5/12/2015</td>\n",
       "      <td>2480000</td>\n",
       "      <td>4</td>\n",
       "      <td>5.00</td>\n",
       "      <td>5310</td>\n",
       "      <td>16909</td>\n",
       "      <td>1.0</td>\n",
       "      <td>0.0</td>\n",
       "      <td>...</td>\n",
       "      <td>2.0</td>\n",
       "      <td>1.0</td>\n",
       "      <td>3.0</td>\n",
       "      <td>6.0</td>\n",
       "      <td>2.000000</td>\n",
       "      <td>7.978413</td>\n",
       "      <td>151797.0</td>\n",
       "      <td>41.000583</td>\n",
       "      <td>1.017241</td>\n",
       "      <td>25003</td>\n",
       "    </tr>\n",
       "  </tbody>\n",
       "</table>\n",
       "<p>16178 rows × 33 columns</p>\n",
       "</div>"
      ],
      "text/plain": [
       "       field_1          id        date    price  bedrooms  bathrooms  \\\n",
       "15981    15981  7625700305    6/5/2014   564000         3       1.75   \n",
       "9576      9576  1400700150   7/22/2014   730000         4       2.50   \n",
       "1212      1212  1026049082  11/25/2014   500000         4       2.00   \n",
       "18840    18840  6638900405   12/8/2014   405000         2       1.00   \n",
       "20748    20748  9536600810    7/8/2014   380000         4       2.50   \n",
       "...        ...         ...         ...      ...       ...        ...   \n",
       "11296    11296  2407900550    5/7/2015   448000         4       2.50   \n",
       "11977    11977  1066100260   6/20/2014   681500         5       2.75   \n",
       "5397      5397  6918100170   3/19/2015   250000         4       3.00   \n",
       "860        860  1723049033   6/20/2014   245000         1       0.75   \n",
       "15814    15814  4139420190   5/12/2015  2480000         4       5.00   \n",
       "\n",
       "       sqft_living  sqft_lot  floors  waterfront  ...  ESL_Score  Income_Sco  \\\n",
       "15981         1980      6250     1.0         0.0  ...        2.0         4.0   \n",
       "9576          3550     35689     2.0         0.0  ...        1.0         2.0   \n",
       "1212          2760     27631     2.0         0.0  ...        1.0         3.0   \n",
       "18840          800      6016     1.0         0.0  ...        2.0         4.0   \n",
       "20748         1984     32400     1.0         0.0  ...        3.0         4.0   \n",
       "...            ...       ...     ...         ...  ...        ...         ...   \n",
       "11296         2230      5000     1.0         0.0  ...        1.0         3.0   \n",
       "11977         3260     11700     1.0         0.0  ...        2.0         2.0   \n",
       "5397          2250      7882     2.0         0.0  ...        3.0         4.0   \n",
       "860            380     15000     1.0         0.0  ...        3.0         4.0   \n",
       "15814         5310     16909     1.0         0.0  ...        2.0         1.0   \n",
       "\n",
       "       RE_Score  TotalScore  WeightedTo  PercentESL  MedianHous  PercentPOC  \\\n",
       "15981       1.0         7.0    2.333333    4.860739     77760.0   21.585431   \n",
       "9576        1.0         4.0    1.333333    2.503230    128086.0   18.104005   \n",
       "1212        1.0         5.0    1.666667    1.516684    106058.0   20.020222   \n",
       "18840       2.0         8.0    2.666667    5.608444     69177.0   25.186258   \n",
       "20748       4.0        11.0    3.666667   10.023828     70783.0   49.467832   \n",
       "...         ...         ...         ...         ...         ...         ...   \n",
       "11296       2.0         6.0    2.000000    4.137727     94844.0   27.220334   \n",
       "11977       2.0         6.0    2.000000    8.611701    125729.0   29.523074   \n",
       "5397        4.0        11.0    3.666667   10.023828     70783.0   49.467832   \n",
       "860         4.0        11.0    3.666667   13.935250     67103.0   54.956767   \n",
       "15814       3.0         6.0    2.000000    7.978413    151797.0   41.000583   \n",
       "\n",
       "       compared_to_neighbors  tract_num  \n",
       "15981               1.000000      10500  \n",
       "9576                1.059701      32311  \n",
       "1212                1.108434      21400  \n",
       "18840               0.544218       1702  \n",
       "20748               1.427338      30003  \n",
       "...                      ...        ...  \n",
       "11296               1.066986      31903  \n",
       "11977               1.139860      23000  \n",
       "5397                1.451613      30003  \n",
       "860                 0.324786      27400  \n",
       "15814               1.017241      25003  \n",
       "\n",
       "[16178 rows x 33 columns]"
      ]
     },
     "execution_count": 42,
     "metadata": {},
     "output_type": "execute_result"
    }
   ],
   "source": [
    "X_train"
   ]
  },
  {
   "cell_type": "code",
   "execution_count": 43,
   "id": "b469ffb9-604c-48cf-aa92-360d0c216f47",
   "metadata": {},
   "outputs": [],
   "source": [
    "numeric = ['sqft_living', 'sqft_lot', 'sqft_living15', 'sqft_lot15', 'grade', 'condition', 'sqft_lot15', 'sqft_above', 'bathrooms', 'bedrooms', 'yr_built', 'compared_to_neighbors']\n",
    "\n",
    "cats = ['tract_num']"
   ]
  },
  {
   "cell_type": "code",
   "execution_count": 44,
   "id": "d282d648-205b-4473-878d-bfd77e6f52c7",
   "metadata": {},
   "outputs": [],
   "source": [
    "ohe = OneHotEncoder(sparse=False)\n",
    "ohe.fit(X_train[cats])\n",
    "\n",
    "X_train_encoded = ohe.transform(X_train[cats])\n",
    "X_test_encoded = ohe.transform(X_test[cats])\n",
    "\n",
    "X_train_encoded_df = pd.DataFrame(X_train_encoded, columns=ohe.get_feature_names())\n",
    "X_test_encoded_df = pd.DataFrame(X_test_encoded, columns=ohe.get_feature_names())\n",
    "# X_train_ohe = pd.DataFrame(ohe.transform(X_train[['tract_num']]), columns = ohe.get_feature_names())\n",
    "# X_train_ohe.columns = X_train_ohe.columns.str.replace('x0', 'census_tract')\n",
    "# X_train = pd.concat([X_train[numeric].reset_index(), X_train_ohe], axis=1)\n",
    "# #X_train = X_train.drop('index', axis=1)"
   ]
  },
  {
   "cell_type": "code",
   "execution_count": 45,
   "id": "41605033-a928-482f-8d3d-02f31306245f",
   "metadata": {},
   "outputs": [],
   "source": [
    "scaler = MinMaxScaler()\n",
    "\n",
    "X_train_scaled = pd.DataFrame(scaler.fit_transform(X_train[numeric]), columns=numeric)\n",
    "X_test_scaled = pd.DataFrame(scaler.transform(X_test[numeric]), columns=numeric)"
   ]
  },
  {
   "cell_type": "code",
   "execution_count": 35,
   "id": "963bec7d-1a05-450a-baf3-87e27b065051",
   "metadata": {},
   "outputs": [],
   "source": [
    "X_train_concat = pd.concat([X_train_scaled, X_train_encoded_df], axis=1)\n"
   ]
  },
  {
   "cell_type": "code",
   "execution_count": null,
   "id": "9d1366ca-dc7f-4454-b63c-308748a4f9d5",
   "metadata": {},
   "outputs": [],
   "source": []
  },
  {
   "cell_type": "code",
   "execution_count": 12,
   "id": "bacbf067-bae7-488f-ad7b-9eeb644dc50c",
   "metadata": {},
   "outputs": [],
   "source": [
    "#X_train['target'] = y_train\n",
    "#X_train = X_train[np.abs(stats.zscore(X_train['target'])) < 3]\n",
    "#y_train = X_train['target']\n",
    "#X_train = X_train.drop('target', axis = 1)"
   ]
  },
  {
   "cell_type": "code",
   "execution_count": 13,
   "id": "7bda7e11-c743-4d41-b60c-0e4d50703377",
   "metadata": {},
   "outputs": [],
   "source": [
    "y_train = np.log(y_train)\n",
    "y_test = np.log(y_test)"
   ]
  },
  {
   "cell_type": "code",
   "execution_count": null,
   "id": "2586a4d9-44ce-4bf9-86ae-2e654bd2bd35",
   "metadata": {},
   "outputs": [],
   "source": []
  },
  {
   "cell_type": "code",
   "execution_count": null,
   "id": "c6503aa1-8572-41dc-af5c-cca73e26783c",
   "metadata": {},
   "outputs": [],
   "source": []
  },
  {
   "cell_type": "code",
   "execution_count": 14,
   "id": "c1edc9d8-3cbc-41ab-a5a8-b66270432da5",
   "metadata": {},
   "outputs": [
    {
     "name": "stdout",
     "output_type": "stream",
     "text": [
      "Training features length:  16178\n",
      "Testing features length:  5393\n",
      "Training target length:  16178\n",
      "Testing target length:  5393\n"
     ]
    }
   ],
   "source": [
    "print('Training features length: ', len(X_train_concat))\n",
    "print('Testing features length: ', len(X_test_concat))\n",
    "print('Training target length: ', len(y_train))\n",
    "print('Testing target length: ', len(y_test))"
   ]
  },
  {
   "cell_type": "code",
   "execution_count": 15,
   "id": "f52bdeaf-b8b8-4605-a081-fbedd92e2aa0",
   "metadata": {},
   "outputs": [],
   "source": [
    "lr = LinearRegression()"
   ]
  },
  {
   "cell_type": "code",
   "execution_count": 16,
   "id": "09cbc9ed-f2c8-4774-8827-394cf477e048",
   "metadata": {},
   "outputs": [
    {
     "data": {
      "text/plain": [
       "16178"
      ]
     },
     "execution_count": 16,
     "metadata": {},
     "output_type": "execute_result"
    }
   ],
   "source": [
    "len(X_train)"
   ]
  },
  {
   "cell_type": "code",
   "execution_count": 17,
   "id": "02c61ad9-37b5-446c-9262-c0c7af32083a",
   "metadata": {},
   "outputs": [
    {
     "data": {
      "text/plain": [
       "16178"
      ]
     },
     "execution_count": 17,
     "metadata": {},
     "output_type": "execute_result"
    }
   ],
   "source": [
    "len(y_train)"
   ]
  },
  {
   "cell_type": "code",
   "execution_count": 18,
   "id": "8e8c6e37-35d1-4b14-873d-a0b62fdf8b7a",
   "metadata": {},
   "outputs": [
    {
     "data": {
      "text/plain": [
       "LinearRegression()"
      ]
     },
     "execution_count": 18,
     "metadata": {},
     "output_type": "execute_result"
    }
   ],
   "source": [
    "lr.fit(X_train_concat, y_train)"
   ]
  },
  {
   "cell_type": "code",
   "execution_count": 19,
   "id": "58b89cfc-9428-465d-8278-38a1f9d95a6f",
   "metadata": {},
   "outputs": [],
   "source": [
    "train_preds = lr.predict(X_train_concat)\n",
    "test_preds = lr.predict(X_test_concat)"
   ]
  },
  {
   "cell_type": "code",
   "execution_count": 20,
   "id": "c5819744-c2b5-4d7c-b707-6cf52558d112",
   "metadata": {},
   "outputs": [
    {
     "data": {
      "text/plain": [
       "0.8781671242768214"
      ]
     },
     "execution_count": 20,
     "metadata": {},
     "output_type": "execute_result"
    }
   ],
   "source": [
    "lr.score(X_test_concat, y_test)"
   ]
  },
  {
   "cell_type": "code",
   "execution_count": 21,
   "id": "eb35d082-abfa-4bbe-9014-ea3769108a81",
   "metadata": {
    "tags": []
   },
   "outputs": [],
   "source": [
    "train_error = mean_squared_error(np.exp(y_train), np.exp(train_preds), squared = False)\n",
    "test_error = mean_squared_error(np.exp(y_test), np.exp(test_preds), squared = False)"
   ]
  },
  {
   "cell_type": "code",
   "execution_count": 22,
   "id": "95274cf7-a6d6-4487-b09c-ee55aa78e891",
   "metadata": {},
   "outputs": [
    {
     "data": {
      "text/plain": [
       "(137690.5396989328, 137253.68428526042)"
      ]
     },
     "execution_count": 22,
     "metadata": {},
     "output_type": "execute_result"
    }
   ],
   "source": [
    "train_error, test_error"
   ]
  },
  {
   "cell_type": "code",
   "execution_count": 23,
   "id": "a13135dd-55c5-4688-94cb-20d39168d3cc",
   "metadata": {},
   "outputs": [
    {
     "data": {
      "text/plain": [
       "(array([7.500e+01, 6.320e+02, 4.116e+03, 7.229e+03, 6.218e+03, 2.371e+03,\n",
       "        7.090e+02, 1.810e+02, 3.300e+01, 7.000e+00]),\n",
       " array([11.26446411, 11.72369078, 12.18291746, 12.64214414, 13.10137082,\n",
       "        13.5605975 , 14.01982417, 14.47905085, 14.93827753, 15.39750421,\n",
       "        15.85673089]),\n",
       " <BarContainer object of 10 artists>)"
      ]
     },
     "execution_count": 23,
     "metadata": {},
     "output_type": "execute_result"
    },
    {
     "data": {
      "image/png": "[encoded data removed]",
      "text/plain": [
       "<Figure size 432x288 with 1 Axes>"
      ]
     },
     "metadata": {
      "needs_background": "light"
     },
     "output_type": "display_data"
    }
   ],
   "source": [
    "plt.hist(np.log(y))"
   ]
  },
  {
   "cell_type": "code",
   "execution_count": null,
   "id": "46db2821-aaa6-465e-8fe8-5a2d5c35f7e8",
   "metadata": {},
   "outputs": [],
   "source": []
  },
  {
   "cell_type": "code",
   "execution_count": 24,
   "id": "1206a589-8451-4b41-a920-43510eb6b71f",
   "metadata": {},
   "outputs": [],
   "source": [
    "X = df.drop(['field_1', 'id', 'floors', 'zipcode', 'waterfront', 'view', 'price', 'date', 'tracts'], axis = 1)\n",
    "y = df['price']\n",
    "X_train, X_test, y_train, y_test = train_test_split(X, y, test_size=.25, random_state=42)"
   ]
  },
  {
   "cell_type": "code",
   "execution_count": 25,
   "id": "da3935c6-89db-4ae2-9738-cf9cdb75af3a",
   "metadata": {},
   "outputs": [
    {
     "name": "stderr",
     "output_type": "stream",
     "text": [
      "<ipython-input-25-5e35db3e1a1c>:1: SettingWithCopyWarning: \n",
      "A value is trying to be set on a copy of a slice from a DataFrame.\n",
      "Try using .loc[row_indexer,col_indexer] = value instead\n",
      "\n",
      "See the caveats in the documentation: https://pandas.pydata.org/pandas-docs/stable/user_guide/indexing.html#returning-a-view-versus-a-copy\n",
      "  X_train['target'] = y_train\n"
     ]
    }
   ],
   "source": [
    "X_train['target'] = y_train\n",
    "X_train_no = X_train[(np.abs(stats.zscore(X_train[['sqft_living', 'sqft_lot', 'sqft_living15', 'sqft_lot15', 'sqft_above', 'bathrooms', 'bedrooms', 'target']])) < 3).all(axis=1)].drop_duplicates()\n",
    "y_train_no = X_train_no['target']\n",
    "X_train_no = X_train_no.drop('target', axis = 1)\n"
   ]
  },
  {
   "cell_type": "code",
   "execution_count": 26,
   "id": "a4b97df9-7797-4e71-b3f8-3969e2eed9ab",
   "metadata": {},
   "outputs": [],
   "source": [
    "df['tract_num'] = df.tracts.str[5:]"
   ]
  },
  {
   "cell_type": "code",
   "execution_count": 27,
   "id": "7fff6bc2-ea18-49ad-8b27-c812eb6a3ffe",
   "metadata": {},
   "outputs": [],
   "source": [
    "df.tract_num  = df.tract_num.astype(int)"
   ]
  },
  {
   "cell_type": "code",
   "execution_count": 28,
   "id": "e7416d7e-d189-4f06-8083-cc9d2c6fddf4",
   "metadata": {},
   "outputs": [],
   "source": [
    "scaler = MinMaxScaler()\n",
    "\n",
    "X_train_scaled = scaler.fit_transform(X_train_no)\n",
    "X_test_scaled = scaler.transform(X_test)"
   ]
  },
  {
   "cell_type": "code",
   "execution_count": 29,
   "id": "8a9a6010-a840-4d9d-8f35-b40d29b45248",
   "metadata": {},
   "outputs": [],
   "source": [
    "X_train_scaled = pd.DataFrame(X_train_scaled, columns=X_train_no.columns)\n",
    "X_test_scaled = pd.DataFrame(X_test_scaled, columns=X_test.columns)"
   ]
  },
  {
   "cell_type": "code",
   "execution_count": 32,
   "id": "9fdf2ae9-7b67-43bb-8e4f-a16f8cc4d9f6",
   "metadata": {},
   "outputs": [
    {
     "data": {
      "text/plain": [
       "field_1                  0\n",
       "id                       0\n",
       "date                     0\n",
       "price                    0\n",
       "bedrooms                 0\n",
       "bathrooms                0\n",
       "sqft_living              0\n",
       "sqft_lot                 0\n",
       "floors                   0\n",
       "waterfront               0\n",
       "view                     0\n",
       "condition                0\n",
       "grade                    0\n",
       "sqft_above               0\n",
       "sqft_basement            0\n",
       "yr_built                 0\n",
       "yr_renovated             0\n",
       "zipcode                  0\n",
       "lat                      0\n",
       "long                     0\n",
       "sqft_living15            0\n",
       "sqft_lot15               0\n",
       "tracts                   0\n",
       "ESL_Score                0\n",
       "Income_Sco               0\n",
       "RE_Score                 0\n",
       "TotalScore               0\n",
       "WeightedTo               0\n",
       "PercentESL               0\n",
       "MedianHous               0\n",
       "PercentPOC               0\n",
       "compared_to_neighbors    0\n",
       "tract_num                0\n",
       "dtype: int64"
      ]
     },
     "execution_count": 32,
     "metadata": {},
     "output_type": "execute_result"
    }
   ],
   "source": [
    "df.isna().sum()"
   ]
  },
  {
   "cell_type": "code",
   "execution_count": null,
   "id": "12641724-8bf0-4de9-8ec8-f6ab11750b3c",
   "metadata": {},
   "outputs": [],
   "source": []
  },
  {
   "cell_type": "code",
   "execution_count": null,
   "id": "aa71ae97-c182-4935-88f7-b032c4a59c62",
   "metadata": {},
   "outputs": [],
   "source": []
  },
  {
   "cell_type": "code",
   "execution_count": null,
   "id": "a8e57514-ed04-4ae7-a838-ee6e7f030fe5",
   "metadata": {},
   "outputs": [],
   "source": []
  }
 ],
 "metadata": {
  "kernelspec": {
   "display_name": "learn-env",
   "language": "python",
   "name": "learn-env"
  },
  "language_info": {
   "codemirror_mode": {
    "name": "ipython",
    "version": 3
   },
   "file_extension": ".py",
   "mimetype": "text/x-python",
   "name": "python",
   "nbconvert_exporter": "python",
   "pygments_lexer": "ipython3",
   "version": "3.8.5"
  }
 },
 "nbformat": 4,
 "nbformat_minor": 5
}
