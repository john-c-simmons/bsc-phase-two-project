{
 "cells": [
  {
   "cell_type": "code",
   "execution_count": 90,
   "id": "3ea30628-8b1e-495c-aa2c-7f6bbfea006d",
   "metadata": {},
   "outputs": [],
   "source": [
    "import pandas as pd\n",
    "\n",
    "# import packages\n",
    "import numpy as np\n",
    "import matplotlib.pyplot as plt\n",
    "import seaborn as sns\n",
    "from scipy import stats\n",
    "from sklearn.linear_model import LinearRegression\n",
    "from sklearn.model_selection import train_test_split\n",
    "from sklearn.impute import SimpleImputer\n",
    "from sklearn.preprocessing import StandardScaler\n",
    "from sklearn.metrics import mean_squared_error as mse\n",
    "%matplotlib inline\n",
    "from sklearn.preprocessing import OneHotEncoder\n",
    "from xgboost import XGBRegressor\n",
    "from sklearn.model_selection import GridSearchCV, train_test_split, KFold \n",
    "from sklearn.model_selection import cross_val_score\n",
    "from sklearn import linear_model, metrics\n",
    "from sklearn.metrics import mean_squared_error, r2_score\n",
    "from sklearn.preprocessing import MinMaxScaler \n",
    "df = pd.read_csv('house_data_census.csv')"
   ]
  },
  {
   "cell_type": "code",
   "execution_count": 91,
   "id": "f9317ba1-a94c-4f44-a57f-bee981ac4a85",
   "metadata": {},
   "outputs": [],
   "source": [
    "df = df[df.tracts != '0']\n",
    "df = df.replace('?', np.nan)\n",
    "df.sqft_basement = df.sqft_basement.replace('?', np.nan)\n",
    "df.sqft_basement = df.sqft_basement.astype(float)\n",
    "df = df.replace(np.nan, 0)\n",
    "df['compared_to_neighbors'] = df['sqft_living']/df['sqft_living15']\n"
   ]
  },
  {
   "cell_type": "code",
   "execution_count": 92,
   "id": "4ff51dd8-7df4-45ab-a8af-77bf7d638772",
   "metadata": {},
   "outputs": [],
   "source": [
    "df['tract_num'] = df.tracts.str[5:]\n",
    "df.tract_num  = df.tract_num.astype(int)"
   ]
  },
  {
   "cell_type": "code",
   "execution_count": 93,
   "id": "88605399-d00f-4a67-9ea4-2038a1cc74a0",
   "metadata": {},
   "outputs": [],
   "source": [
    "X = df.copy()\n",
    "y = df.price\n",
    "\n",
    "X_train, X_test, y_train, y_test = train_test_split(X, y, test_size=.25, random_state=42)\n"
   ]
  },
  {
   "cell_type": "code",
   "execution_count": 94,
   "id": "b469ffb9-604c-48cf-aa92-360d0c216f47",
   "metadata": {},
   "outputs": [],
   "source": [
    "numeric = ['sqft_living', 'sqft_lot', 'sqft_living15', 'sqft_lot15', 'grade', 'condition', 'sqft_lot15', 'sqft_above', 'bathrooms', 'bedrooms', 'yr_built', 'compared_to_neighbors']\n",
    "\n",
    "cats = ['tract_num']"
   ]
  },
  {
   "cell_type": "code",
   "execution_count": 95,
   "id": "d282d648-205b-4473-878d-bfd77e6f52c7",
   "metadata": {},
   "outputs": [],
   "source": [
    "ohe = OneHotEncoder(sparse=False)\n",
    "ohe.fit(X_train[cats])\n",
    "\n",
    "X_train_encoded = ohe.transform(X_train[cats])\n",
    "X_test_encoded = ohe.transform(X_test[cats])\n",
    "\n",
    "X_train_encoded_df = pd.DataFrame(X_train_encoded, columns=ohe.get_feature_names())\n",
    "X_test_encoded_df = pd.DataFrame(X_test_encoded, columns=ohe.get_feature_names())\n",
    "# X_train_ohe = pd.DataFrame(ohe.transform(X_train[['tract_num']]), columns = ohe.get_feature_names())\n",
    "# X_train_ohe.columns = X_train_ohe.columns.str.replace('x0', 'census_tract')\n",
    "# X_train = pd.concat([X_train[numeric].reset_index(), X_train_ohe], axis=1)\n",
    "# #X_train = X_train.drop('index', axis=1)"
   ]
  },
  {
   "cell_type": "code",
   "execution_count": 96,
   "id": "41605033-a928-482f-8d3d-02f31306245f",
   "metadata": {},
   "outputs": [],
   "source": [
    "scaler = MinMaxScaler()\n",
    "\n",
    "X_train_scaled = pd.DataFrame(scaler.fit_transform(X_train[numeric]), columns=numeric)\n",
    "X_test_scaled = pd.DataFrame(scaler.transform(X_test[numeric]), columns=numeric)"
   ]
  },
  {
   "cell_type": "code",
   "execution_count": 97,
   "id": "963bec7d-1a05-450a-baf3-87e27b065051",
   "metadata": {},
   "outputs": [],
   "source": [
    "X_train_concat = pd.concat([X_train_scaled, X_train_encoded_df], axis=1)\n",
    "X_test_concat = pd.concat([X_test_scaled, X_test_encoded_df], axis=1)"
   ]
  },
  {
   "cell_type": "code",
   "execution_count": 98,
   "id": "bacbf067-bae7-488f-ad7b-9eeb644dc50c",
   "metadata": {},
   "outputs": [],
   "source": [
    "#X_train['target'] = y_train\n",
    "#X_train = X_train[np.abs(stats.zscore(X_train['target'])) < 3]\n",
    "#y_train = X_train['target']\n",
    "#X_train = X_train.drop('target', axis = 1)"
   ]
  },
  {
   "cell_type": "code",
   "execution_count": 99,
   "id": "7bda7e11-c743-4d41-b60c-0e4d50703377",
   "metadata": {},
   "outputs": [],
   "source": [
    "y_train = np.log(y_train)\n",
    "y_test = np.log(y_test)"
   ]
  },
  {
   "cell_type": "code",
   "execution_count": 100,
   "id": "c1edc9d8-3cbc-41ab-a5a8-b66270432da5",
   "metadata": {},
   "outputs": [
    {
     "name": "stdout",
     "output_type": "stream",
     "text": [
      "Training features length:  16178\n",
      "Testing features length:  5393\n",
      "Training target length:  16178\n",
      "Testing target length:  5393\n"
     ]
    }
   ],
   "source": [
    "print('Training features length: ', len(X_train_concat))\n",
    "print('Testing features length: ', len(X_test_concat))\n",
    "print('Training target length: ', len(y_train))\n",
    "print('Testing target length: ', len(y_test))"
   ]
  },
  {
   "cell_type": "code",
   "execution_count": 101,
   "id": "f52bdeaf-b8b8-4605-a081-fbedd92e2aa0",
   "metadata": {},
   "outputs": [],
   "source": [
    "lr = LinearRegression()"
   ]
  },
  {
   "cell_type": "code",
   "execution_count": 102,
   "id": "8e8c6e37-35d1-4b14-873d-a0b62fdf8b7a",
   "metadata": {},
   "outputs": [
    {
     "data": {
      "text/plain": [
       "LinearRegression()"
      ]
     },
     "execution_count": 102,
     "metadata": {},
     "output_type": "execute_result"
    }
   ],
   "source": [
    "lr.fit(X_train_concat, y_train)"
   ]
  },
  {
   "cell_type": "code",
   "execution_count": 103,
   "id": "58b89cfc-9428-465d-8278-38a1f9d95a6f",
   "metadata": {},
   "outputs": [],
   "source": [
    "train_preds = lr.predict(X_train_concat)\n",
    "test_preds = lr.predict(X_test_concat)"
   ]
  },
  {
   "cell_type": "code",
   "execution_count": 104,
   "id": "c5819744-c2b5-4d7c-b707-6cf52558d112",
   "metadata": {},
   "outputs": [
    {
     "data": {
      "text/plain": [
       "0.8781671242768214"
      ]
     },
     "execution_count": 104,
     "metadata": {},
     "output_type": "execute_result"
    }
   ],
   "source": [
    "lr.score(X_test_concat, y_test)"
   ]
  },
  {
   "cell_type": "code",
   "execution_count": 105,
   "id": "eb35d082-abfa-4bbe-9014-ea3769108a81",
   "metadata": {
    "tags": []
   },
   "outputs": [],
   "source": [
    "train_error = mean_squared_error(np.exp(y_train), np.exp(train_preds), squared = False)\n",
    "test_error = mean_squared_error(np.exp(y_test), np.exp(test_preds), squared = False)"
   ]
  },
  {
   "cell_type": "code",
   "execution_count": 106,
   "id": "95274cf7-a6d6-4487-b09c-ee55aa78e891",
   "metadata": {},
   "outputs": [
    {
     "data": {
      "text/plain": [
       "(137690.5396989328, 137253.68428526042)"
      ]
     },
     "execution_count": 106,
     "metadata": {},
     "output_type": "execute_result"
    }
   ],
   "source": [
    "train_error, test_error"
   ]
  },
  {
   "cell_type": "code",
   "execution_count": 140,
   "id": "89187821-b196-44f2-aac7-02667c32392a",
   "metadata": {},
   "outputs": [],
   "source": [
    "quantiles = pd.DataFrame(pd.qcut(np.exp(y_train), q=10))"
   ]
  },
  {
   "cell_type": "code",
   "execution_count": 141,
   "id": "50564367-3561-4997-9604-4eef8f35de63",
   "metadata": {},
   "outputs": [
    {
     "data": {
      "text/plain": [
       "(399940.0, 450000.0]     1661\n",
       "(245910.0, 299000.0]     1653\n",
       "(594950.0, 700000.0]     1619\n",
       "(884930.0, 7700000.0]    1618\n",
       "(77999.999, 245910.0]    1618\n",
       "(519500.0, 594950.0]     1617\n",
       "(345635.0, 399940.0]     1617\n",
       "(700000.0, 884930.0]     1616\n",
       "(299000.0, 345635.0]     1583\n",
       "(450000.0, 519500.0]     1576\n",
       "Name: price, dtype: int64"
      ]
     },
     "execution_count": 141,
     "metadata": {},
     "output_type": "execute_result"
    }
   ],
   "source": [
    "quantiles['price'].value_counts()"
   ]
  },
  {
   "cell_type": "code",
   "execution_count": 142,
   "id": "f4b5db2e-7c94-46ac-b86d-09a693474ba8",
   "metadata": {},
   "outputs": [],
   "source": [
    "e = np.exp(lr.predict(X_train_concat)) - np.exp(y_train)"
   ]
  },
  {
   "cell_type": "code",
   "execution_count": 143,
   "id": "dcca6519-a800-4ffd-b88d-c625d531ded1",
   "metadata": {},
   "outputs": [
    {
     "data": {
      "text/plain": [
       "15981      -484.009724\n",
       "9576      71107.160101\n",
       "1212      97024.323703\n",
       "18840    -66427.220461\n",
       "20748    -38713.180502\n",
       "             ...      \n",
       "11296    -82968.380415\n",
       "11977     50561.750290\n",
       "5397     103160.277441\n",
       "860     -100637.730932\n",
       "15814   -643223.025776\n",
       "Name: price, Length: 16178, dtype: float64"
      ]
     },
     "execution_count": 143,
     "metadata": {},
     "output_type": "execute_result"
    }
   ],
   "source": [
    "e"
   ]
  },
  {
   "cell_type": "code",
   "execution_count": 144,
   "id": "12492b62-bd7e-41cd-b1f0-0a71b08e6192",
   "metadata": {},
   "outputs": [
    {
     "data": {
      "text/plain": [
       "(16178, 1)"
      ]
     },
     "execution_count": 144,
     "metadata": {},
     "output_type": "execute_result"
    }
   ],
   "source": [
    "quantiles.shape"
   ]
  },
  {
   "cell_type": "code",
   "execution_count": 145,
   "id": "61eaef0b-94a4-4202-9d1b-fb9e38d8c1e6",
   "metadata": {},
   "outputs": [],
   "source": [
    "quantiles['error'] = e"
   ]
  },
  {
   "cell_type": "code",
   "execution_count": null,
   "id": "5dfd8582-8495-44dd-b394-b74a2bf824d0",
   "metadata": {},
   "outputs": [],
   "source": []
  },
  {
   "cell_type": "code",
   "execution_count": 146,
   "id": "e7fbdac9-bbcf-45d5-8c26-16a430c2f1b0",
   "metadata": {},
   "outputs": [],
   "source": [
    "error_df = quantiles.groupby('price').mean()['error']\n",
    "error_df = pd.DataFrame(error_df).reset_index()"
   ]
  },
  {
   "cell_type": "code",
   "execution_count": 147,
   "id": "2af7b4a3-b12d-4b21-832e-06cb672b39b8",
   "metadata": {},
   "outputs": [
    {
     "data": {
      "text/plain": [
       "<AxesSubplot:xlabel='price'>"
      ]
     },
     "execution_count": 147,
     "metadata": {},
     "output_type": "execute_result"
    },
    {
     "data": {
      "image/png": "[encoded data removed]",
      "text/plain": [
       "<Figure size 432x288 with 1 Axes>"
      ]
     },
     "metadata": {
      "needs_background": "light"
     },
     "output_type": "display_data"
    }
   ],
   "source": [
    "error_df.plot.bar(x='price', y='error', rot=45)"
   ]
  },
  {
   "cell_type": "code",
   "execution_count": 134,
   "id": "a13135dd-55c5-4688-94cb-20d39168d3cc",
   "metadata": {},
   "outputs": [
    {
     "data": {
      "text/plain": [
       "(array([7.500e+01, 6.320e+02, 4.116e+03, 7.229e+03, 6.218e+03, 2.371e+03,\n",
       "        7.090e+02, 1.810e+02, 3.300e+01, 7.000e+00]),\n",
       " array([11.26446411, 11.72369078, 12.18291746, 12.64214414, 13.10137082,\n",
       "        13.5605975 , 14.01982417, 14.47905085, 14.93827753, 15.39750421,\n",
       "        15.85673089]),\n",
       " <BarContainer object of 10 artists>)"
      ]
     },
     "execution_count": 134,
     "metadata": {},
     "output_type": "execute_result"
    },
    {
     "data": {
      "image/png": "[encoded data removed]",
      "text/plain": [
       "<Figure size 432x288 with 1 Axes>"
      ]
     },
     "metadata": {
      "needs_background": "light"
     },
     "output_type": "display_data"
    }
   ],
   "source": [
    "plt.hist(np.log(y))"
   ]
  },
  {
   "cell_type": "code",
   "execution_count": null,
   "id": "46db2821-aaa6-465e-8fe8-5a2d5c35f7e8",
   "metadata": {},
   "outputs": [],
   "source": []
  },
  {
   "cell_type": "code",
   "execution_count": 24,
   "id": "1206a589-8451-4b41-a920-43510eb6b71f",
   "metadata": {},
   "outputs": [],
   "source": [
    "X = df.drop(['field_1', 'id', 'floors', 'zipcode', 'waterfront', 'view', 'price', 'date', 'tracts'], axis = 1)\n",
    "y = df['price']\n",
    "X_train, X_test, y_train, y_test = train_test_split(X, y, test_size=.25, random_state=42)"
   ]
  },
  {
   "cell_type": "code",
   "execution_count": 25,
   "id": "da3935c6-89db-4ae2-9738-cf9cdb75af3a",
   "metadata": {},
   "outputs": [
    {
     "name": "stderr",
     "output_type": "stream",
     "text": [
      "<ipython-input-25-5e35db3e1a1c>:1: SettingWithCopyWarning: \n",
      "A value is trying to be set on a copy of a slice from a DataFrame.\n",
      "Try using .loc[row_indexer,col_indexer] = value instead\n",
      "\n",
      "See the caveats in the documentation: https://pandas.pydata.org/pandas-docs/stable/user_guide/indexing.html#returning-a-view-versus-a-copy\n",
      "  X_train['target'] = y_train\n"
     ]
    }
   ],
   "source": [
    "X_train['target'] = y_train\n",
    "X_train_no = X_train[(np.abs(stats.zscore(X_train[['sqft_living', 'sqft_lot', 'sqft_living15', 'sqft_lot15', 'sqft_above', 'bathrooms', 'bedrooms', 'target']])) < 3).all(axis=1)].drop_duplicates()\n",
    "y_train_no = X_train_no['target']\n",
    "X_train_no = X_train_no.drop('target', axis = 1)\n"
   ]
  },
  {
   "cell_type": "code",
   "execution_count": 26,
   "id": "a4b97df9-7797-4e71-b3f8-3969e2eed9ab",
   "metadata": {},
   "outputs": [],
   "source": [
    "df['tract_num'] = df.tracts.str[5:]"
   ]
  },
  {
   "cell_type": "code",
   "execution_count": 27,
   "id": "7fff6bc2-ea18-49ad-8b27-c812eb6a3ffe",
   "metadata": {},
   "outputs": [],
   "source": [
    "df.tract_num  = df.tract_num.astype(int)"
   ]
  },
  {
   "cell_type": "code",
   "execution_count": 28,
   "id": "e7416d7e-d189-4f06-8083-cc9d2c6fddf4",
   "metadata": {},
   "outputs": [],
   "source": [
    "scaler = MinMaxScaler()\n",
    "\n",
    "X_train_scaled = scaler.fit_transform(X_train_no)\n",
    "X_test_scaled = scaler.transform(X_test)"
   ]
  },
  {
   "cell_type": "code",
   "execution_count": 29,
   "id": "8a9a6010-a840-4d9d-8f35-b40d29b45248",
   "metadata": {},
   "outputs": [],
   "source": [
    "X_train_scaled = pd.DataFrame(X_train_scaled, columns=X_train_no.columns)\n",
    "X_test_scaled = pd.DataFrame(X_test_scaled, columns=X_test.columns)"
   ]
  },
  {
   "cell_type": "code",
   "execution_count": 32,
   "id": "9fdf2ae9-7b67-43bb-8e4f-a16f8cc4d9f6",
   "metadata": {},
   "outputs": [
    {
     "data": {
      "text/plain": [
       "field_1                  0\n",
       "id                       0\n",
       "date                     0\n",
       "price                    0\n",
       "bedrooms                 0\n",
       "bathrooms                0\n",
       "sqft_living              0\n",
       "sqft_lot                 0\n",
       "floors                   0\n",
       "waterfront               0\n",
       "view                     0\n",
       "condition                0\n",
       "grade                    0\n",
       "sqft_above               0\n",
       "sqft_basement            0\n",
       "yr_built                 0\n",
       "yr_renovated             0\n",
       "zipcode                  0\n",
       "lat                      0\n",
       "long                     0\n",
       "sqft_living15            0\n",
       "sqft_lot15               0\n",
       "tracts                   0\n",
       "ESL_Score                0\n",
       "Income_Sco               0\n",
       "RE_Score                 0\n",
       "TotalScore               0\n",
       "WeightedTo               0\n",
       "PercentESL               0\n",
       "MedianHous               0\n",
       "PercentPOC               0\n",
       "compared_to_neighbors    0\n",
       "tract_num                0\n",
       "dtype: int64"
      ]
     },
     "execution_count": 32,
     "metadata": {},
     "output_type": "execute_result"
    }
   ],
   "source": [
    "df.isna().sum()"
   ]
  },
  {
   "cell_type": "code",
   "execution_count": null,
   "id": "12641724-8bf0-4de9-8ec8-f6ab11750b3c",
   "metadata": {},
   "outputs": [],
   "source": []
  },
  {
   "cell_type": "code",
   "execution_count": null,
   "id": "aa71ae97-c182-4935-88f7-b032c4a59c62",
   "metadata": {},
   "outputs": [],
   "source": []
  },
  {
   "cell_type": "code",
   "execution_count": null,
   "id": "a8e57514-ed04-4ae7-a838-ee6e7f030fe5",
   "metadata": {},
   "outputs": [],
   "source": []
  }
 ],
 "metadata": {
  "kernelspec": {
   "display_name": "learn-env",
   "language": "python",
   "name": "learn-env"
  },
  "language_info": {
   "codemirror_mode": {
    "name": "ipython",
    "version": 3
   },
   "file_extension": ".py",
   "mimetype": "text/x-python",
   "name": "python",
   "nbconvert_exporter": "python",
   "pygments_lexer": "ipython3",
   "version": "3.8.5"
  }
 },
 "nbformat": 4,
 "nbformat_minor": 5
}
