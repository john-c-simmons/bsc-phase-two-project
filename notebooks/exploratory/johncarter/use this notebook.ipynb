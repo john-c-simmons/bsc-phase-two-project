{
 "cells": [
  {
   "cell_type": "code",
   "execution_count": 1,
   "metadata": {
    "ExecuteTime": {
     "end_time": "2021-07-01T20:22:22.366406Z",
     "start_time": "2021-07-01T20:22:19.851997Z"
    }
   },
   "outputs": [],
   "source": [
    "import pandas as pd\n",
    "\n",
    "# import packages\n",
    "import numpy as np\n",
    "import matplotlib.pyplot as plt\n",
    "import seaborn as sns\n",
    "from scipy import stats\n",
    "from sklearn.linear_model import LinearRegression\n",
    "from sklearn.model_selection import train_test_split\n",
    "from sklearn.impute import SimpleImputer\n",
    "from sklearn.preprocessing import StandardScaler\n",
    "from sklearn.metrics import mean_squared_error as mse\n",
    "%matplotlib inline\n",
    "from sklearn.preprocessing import OneHotEncoder\n",
    "from xgboost import XGBRegressor\n",
    "from sklearn.model_selection import GridSearchCV, train_test_split, KFold \n",
    "from sklearn.model_selection import cross_val_score\n",
    "from sklearn import linear_model, metrics\n",
    "from sklearn.metrics import mean_squared_error, r2_score\n",
    "from sklearn.preprocessing import MinMaxScaler \n",
    "\n",
    "df = pd.read_csv('house_data_census.csv')"
   ]
  },
  {
   "cell_type": "code",
   "execution_count": 2,
   "metadata": {
    "ExecuteTime": {
     "end_time": "2021-07-01T20:22:22.397461Z",
     "start_time": "2021-07-01T20:22:22.368566Z"
    }
   },
   "outputs": [],
   "source": [
    "df = df[df.tracts != '0']\n",
    "df = df.replace('?', np.nan)\n",
    "df.sqft_basement = df.sqft_basement.replace('?', np.nan)\n",
    "df.sqft_basement = df.sqft_basement.astype(float)\n",
    "df = df.replace(np.nan, 0)\n",
    "df['compared_to_neighbors'] = df['sqft_living']/df['sqft_living15']\n",
    "df['lot_compared_to_neighbors'] = df['sqft_lot']/df['sqft_lot15']\n",
    "df['empty_lot_space'] =  df['sqft_living'] / df['sqft_lot']\n",
    "#df = df[df.price < 5000000]"
   ]
  },
  {
   "cell_type": "code",
   "execution_count": 3,
   "metadata": {
    "ExecuteTime": {
     "end_time": "2021-07-01T20:22:22.444147Z",
     "start_time": "2021-07-01T20:22:22.401082Z"
    }
   },
   "outputs": [
    {
     "data": {
      "text/html": [
       "<div>\n",
       "<style scoped>\n",
       "    .dataframe tbody tr th:only-of-type {\n",
       "        vertical-align: middle;\n",
       "    }\n",
       "\n",
       "    .dataframe tbody tr th {\n",
       "        vertical-align: top;\n",
       "    }\n",
       "\n",
       "    .dataframe thead th {\n",
       "        text-align: right;\n",
       "    }\n",
       "</style>\n",
       "<table border=\"1\" class=\"dataframe\">\n",
       "  <thead>\n",
       "    <tr style=\"text-align: right;\">\n",
       "      <th></th>\n",
       "      <th>field_1</th>\n",
       "      <th>id</th>\n",
       "      <th>date</th>\n",
       "      <th>price</th>\n",
       "      <th>bedrooms</th>\n",
       "      <th>bathrooms</th>\n",
       "      <th>sqft_living</th>\n",
       "      <th>sqft_lot</th>\n",
       "      <th>floors</th>\n",
       "      <th>waterfront</th>\n",
       "      <th>...</th>\n",
       "      <th>Income_Sco</th>\n",
       "      <th>RE_Score</th>\n",
       "      <th>TotalScore</th>\n",
       "      <th>WeightedTo</th>\n",
       "      <th>PercentESL</th>\n",
       "      <th>MedianHous</th>\n",
       "      <th>PercentPOC</th>\n",
       "      <th>compared_to_neighbors</th>\n",
       "      <th>lot_compared_to_neighbors</th>\n",
       "      <th>empty_lot_space</th>\n",
       "    </tr>\n",
       "  </thead>\n",
       "  <tbody>\n",
       "    <tr>\n",
       "      <th>0</th>\n",
       "      <td>0</td>\n",
       "      <td>7129300520</td>\n",
       "      <td>10/13/2014</td>\n",
       "      <td>221900</td>\n",
       "      <td>3</td>\n",
       "      <td>1.00</td>\n",
       "      <td>1180</td>\n",
       "      <td>5650</td>\n",
       "      <td>1.0</td>\n",
       "      <td>0.0</td>\n",
       "      <td>...</td>\n",
       "      <td>3.0</td>\n",
       "      <td>5.0</td>\n",
       "      <td>11.0</td>\n",
       "      <td>3.666667</td>\n",
       "      <td>14.992760</td>\n",
       "      <td>86603.0</td>\n",
       "      <td>76.030012</td>\n",
       "      <td>0.880597</td>\n",
       "      <td>1.000000</td>\n",
       "      <td>0.208850</td>\n",
       "    </tr>\n",
       "    <tr>\n",
       "      <th>1</th>\n",
       "      <td>1</td>\n",
       "      <td>6414100192</td>\n",
       "      <td>12/9/2014</td>\n",
       "      <td>538000</td>\n",
       "      <td>3</td>\n",
       "      <td>2.25</td>\n",
       "      <td>2570</td>\n",
       "      <td>7242</td>\n",
       "      <td>2.0</td>\n",
       "      <td>0.0</td>\n",
       "      <td>...</td>\n",
       "      <td>4.0</td>\n",
       "      <td>3.0</td>\n",
       "      <td>10.0</td>\n",
       "      <td>3.333333</td>\n",
       "      <td>16.380283</td>\n",
       "      <td>67397.0</td>\n",
       "      <td>36.749028</td>\n",
       "      <td>1.520710</td>\n",
       "      <td>0.948030</td>\n",
       "      <td>0.354874</td>\n",
       "    </tr>\n",
       "    <tr>\n",
       "      <th>2</th>\n",
       "      <td>2</td>\n",
       "      <td>5631500400</td>\n",
       "      <td>2/25/2015</td>\n",
       "      <td>180000</td>\n",
       "      <td>2</td>\n",
       "      <td>1.00</td>\n",
       "      <td>770</td>\n",
       "      <td>10000</td>\n",
       "      <td>1.0</td>\n",
       "      <td>0.0</td>\n",
       "      <td>...</td>\n",
       "      <td>3.0</td>\n",
       "      <td>2.0</td>\n",
       "      <td>7.0</td>\n",
       "      <td>2.333333</td>\n",
       "      <td>8.373317</td>\n",
       "      <td>104053.0</td>\n",
       "      <td>27.658257</td>\n",
       "      <td>0.283088</td>\n",
       "      <td>1.240387</td>\n",
       "      <td>0.077000</td>\n",
       "    </tr>\n",
       "    <tr>\n",
       "      <th>3</th>\n",
       "      <td>3</td>\n",
       "      <td>2487200875</td>\n",
       "      <td>12/9/2014</td>\n",
       "      <td>604000</td>\n",
       "      <td>4</td>\n",
       "      <td>3.00</td>\n",
       "      <td>1960</td>\n",
       "      <td>5000</td>\n",
       "      <td>1.0</td>\n",
       "      <td>0.0</td>\n",
       "      <td>...</td>\n",
       "      <td>3.0</td>\n",
       "      <td>1.0</td>\n",
       "      <td>5.0</td>\n",
       "      <td>1.666667</td>\n",
       "      <td>1.203073</td>\n",
       "      <td>103835.0</td>\n",
       "      <td>13.944050</td>\n",
       "      <td>1.441176</td>\n",
       "      <td>1.000000</td>\n",
       "      <td>0.392000</td>\n",
       "    </tr>\n",
       "    <tr>\n",
       "      <th>4</th>\n",
       "      <td>4</td>\n",
       "      <td>1954400510</td>\n",
       "      <td>2/18/2015</td>\n",
       "      <td>510000</td>\n",
       "      <td>3</td>\n",
       "      <td>2.00</td>\n",
       "      <td>1680</td>\n",
       "      <td>8080</td>\n",
       "      <td>1.0</td>\n",
       "      <td>0.0</td>\n",
       "      <td>...</td>\n",
       "      <td>1.0</td>\n",
       "      <td>1.0</td>\n",
       "      <td>4.0</td>\n",
       "      <td>1.333333</td>\n",
       "      <td>6.263082</td>\n",
       "      <td>162532.0</td>\n",
       "      <td>18.885848</td>\n",
       "      <td>0.933333</td>\n",
       "      <td>1.076903</td>\n",
       "      <td>0.207921</td>\n",
       "    </tr>\n",
       "    <tr>\n",
       "      <th>...</th>\n",
       "      <td>...</td>\n",
       "      <td>...</td>\n",
       "      <td>...</td>\n",
       "      <td>...</td>\n",
       "      <td>...</td>\n",
       "      <td>...</td>\n",
       "      <td>...</td>\n",
       "      <td>...</td>\n",
       "      <td>...</td>\n",
       "      <td>...</td>\n",
       "      <td>...</td>\n",
       "      <td>...</td>\n",
       "      <td>...</td>\n",
       "      <td>...</td>\n",
       "      <td>...</td>\n",
       "      <td>...</td>\n",
       "      <td>...</td>\n",
       "      <td>...</td>\n",
       "      <td>...</td>\n",
       "      <td>...</td>\n",
       "      <td>...</td>\n",
       "    </tr>\n",
       "    <tr>\n",
       "      <th>21592</th>\n",
       "      <td>21592</td>\n",
       "      <td>263000018</td>\n",
       "      <td>5/21/2014</td>\n",
       "      <td>360000</td>\n",
       "      <td>3</td>\n",
       "      <td>2.50</td>\n",
       "      <td>1530</td>\n",
       "      <td>1131</td>\n",
       "      <td>3.0</td>\n",
       "      <td>0.0</td>\n",
       "      <td>...</td>\n",
       "      <td>4.0</td>\n",
       "      <td>3.0</td>\n",
       "      <td>10.0</td>\n",
       "      <td>3.333333</td>\n",
       "      <td>13.070725</td>\n",
       "      <td>70764.0</td>\n",
       "      <td>44.337511</td>\n",
       "      <td>1.000000</td>\n",
       "      <td>0.749503</td>\n",
       "      <td>1.352785</td>\n",
       "    </tr>\n",
       "    <tr>\n",
       "      <th>21593</th>\n",
       "      <td>21593</td>\n",
       "      <td>6600060120</td>\n",
       "      <td>2/23/2015</td>\n",
       "      <td>400000</td>\n",
       "      <td>4</td>\n",
       "      <td>2.50</td>\n",
       "      <td>2310</td>\n",
       "      <td>5813</td>\n",
       "      <td>2.0</td>\n",
       "      <td>0.0</td>\n",
       "      <td>...</td>\n",
       "      <td>4.0</td>\n",
       "      <td>4.0</td>\n",
       "      <td>12.0</td>\n",
       "      <td>4.000000</td>\n",
       "      <td>25.104444</td>\n",
       "      <td>64375.0</td>\n",
       "      <td>56.513483</td>\n",
       "      <td>1.262295</td>\n",
       "      <td>0.807361</td>\n",
       "      <td>0.397385</td>\n",
       "    </tr>\n",
       "    <tr>\n",
       "      <th>21594</th>\n",
       "      <td>21594</td>\n",
       "      <td>1523300141</td>\n",
       "      <td>6/23/2014</td>\n",
       "      <td>402101</td>\n",
       "      <td>2</td>\n",
       "      <td>0.75</td>\n",
       "      <td>1020</td>\n",
       "      <td>1350</td>\n",
       "      <td>2.0</td>\n",
       "      <td>0.0</td>\n",
       "      <td>...</td>\n",
       "      <td>3.0</td>\n",
       "      <td>4.0</td>\n",
       "      <td>8.0</td>\n",
       "      <td>2.666667</td>\n",
       "      <td>2.391342</td>\n",
       "      <td>87250.0</td>\n",
       "      <td>50.340374</td>\n",
       "      <td>1.000000</td>\n",
       "      <td>0.672646</td>\n",
       "      <td>0.755556</td>\n",
       "    </tr>\n",
       "    <tr>\n",
       "      <th>21595</th>\n",
       "      <td>21595</td>\n",
       "      <td>291310100</td>\n",
       "      <td>1/16/2015</td>\n",
       "      <td>400000</td>\n",
       "      <td>3</td>\n",
       "      <td>2.50</td>\n",
       "      <td>1600</td>\n",
       "      <td>2388</td>\n",
       "      <td>2.0</td>\n",
       "      <td>0.0</td>\n",
       "      <td>...</td>\n",
       "      <td>1.0</td>\n",
       "      <td>3.0</td>\n",
       "      <td>6.0</td>\n",
       "      <td>2.000000</td>\n",
       "      <td>7.201714</td>\n",
       "      <td>149704.0</td>\n",
       "      <td>38.282795</td>\n",
       "      <td>1.134752</td>\n",
       "      <td>1.855478</td>\n",
       "      <td>0.670017</td>\n",
       "    </tr>\n",
       "    <tr>\n",
       "      <th>21596</th>\n",
       "      <td>21596</td>\n",
       "      <td>1523300157</td>\n",
       "      <td>10/15/2014</td>\n",
       "      <td>325000</td>\n",
       "      <td>2</td>\n",
       "      <td>0.75</td>\n",
       "      <td>1020</td>\n",
       "      <td>1076</td>\n",
       "      <td>2.0</td>\n",
       "      <td>0.0</td>\n",
       "      <td>...</td>\n",
       "      <td>3.0</td>\n",
       "      <td>4.0</td>\n",
       "      <td>8.0</td>\n",
       "      <td>2.666667</td>\n",
       "      <td>2.391342</td>\n",
       "      <td>87250.0</td>\n",
       "      <td>50.340374</td>\n",
       "      <td>1.000000</td>\n",
       "      <td>0.792926</td>\n",
       "      <td>0.947955</td>\n",
       "    </tr>\n",
       "  </tbody>\n",
       "</table>\n",
       "<p>21571 rows × 34 columns</p>\n",
       "</div>"
      ],
      "text/plain": [
       "       field_1          id        date   price  bedrooms  bathrooms  \\\n",
       "0            0  7129300520  10/13/2014  221900         3       1.00   \n",
       "1            1  6414100192   12/9/2014  538000         3       2.25   \n",
       "2            2  5631500400   2/25/2015  180000         2       1.00   \n",
       "3            3  2487200875   12/9/2014  604000         4       3.00   \n",
       "4            4  1954400510   2/18/2015  510000         3       2.00   \n",
       "...        ...         ...         ...     ...       ...        ...   \n",
       "21592    21592   263000018   5/21/2014  360000         3       2.50   \n",
       "21593    21593  6600060120   2/23/2015  400000         4       2.50   \n",
       "21594    21594  1523300141   6/23/2014  402101         2       0.75   \n",
       "21595    21595   291310100   1/16/2015  400000         3       2.50   \n",
       "21596    21596  1523300157  10/15/2014  325000         2       0.75   \n",
       "\n",
       "       sqft_living  sqft_lot  floors  waterfront  ...  Income_Sco  RE_Score  \\\n",
       "0             1180      5650     1.0         0.0  ...         3.0       5.0   \n",
       "1             2570      7242     2.0         0.0  ...         4.0       3.0   \n",
       "2              770     10000     1.0         0.0  ...         3.0       2.0   \n",
       "3             1960      5000     1.0         0.0  ...         3.0       1.0   \n",
       "4             1680      8080     1.0         0.0  ...         1.0       1.0   \n",
       "...            ...       ...     ...         ...  ...         ...       ...   \n",
       "21592         1530      1131     3.0         0.0  ...         4.0       3.0   \n",
       "21593         2310      5813     2.0         0.0  ...         4.0       4.0   \n",
       "21594         1020      1350     2.0         0.0  ...         3.0       4.0   \n",
       "21595         1600      2388     2.0         0.0  ...         1.0       3.0   \n",
       "21596         1020      1076     2.0         0.0  ...         3.0       4.0   \n",
       "\n",
       "       TotalScore  WeightedTo  PercentESL  MedianHous  PercentPOC  \\\n",
       "0            11.0    3.666667   14.992760     86603.0   76.030012   \n",
       "1            10.0    3.333333   16.380283     67397.0   36.749028   \n",
       "2             7.0    2.333333    8.373317    104053.0   27.658257   \n",
       "3             5.0    1.666667    1.203073    103835.0   13.944050   \n",
       "4             4.0    1.333333    6.263082    162532.0   18.885848   \n",
       "...           ...         ...         ...         ...         ...   \n",
       "21592        10.0    3.333333   13.070725     70764.0   44.337511   \n",
       "21593        12.0    4.000000   25.104444     64375.0   56.513483   \n",
       "21594         8.0    2.666667    2.391342     87250.0   50.340374   \n",
       "21595         6.0    2.000000    7.201714    149704.0   38.282795   \n",
       "21596         8.0    2.666667    2.391342     87250.0   50.340374   \n",
       "\n",
       "       compared_to_neighbors  lot_compared_to_neighbors  empty_lot_space  \n",
       "0                   0.880597                   1.000000         0.208850  \n",
       "1                   1.520710                   0.948030         0.354874  \n",
       "2                   0.283088                   1.240387         0.077000  \n",
       "3                   1.441176                   1.000000         0.392000  \n",
       "4                   0.933333                   1.076903         0.207921  \n",
       "...                      ...                        ...              ...  \n",
       "21592               1.000000                   0.749503         1.352785  \n",
       "21593               1.262295                   0.807361         0.397385  \n",
       "21594               1.000000                   0.672646         0.755556  \n",
       "21595               1.134752                   1.855478         0.670017  \n",
       "21596               1.000000                   0.792926         0.947955  \n",
       "\n",
       "[21571 rows x 34 columns]"
      ]
     },
     "execution_count": 3,
     "metadata": {},
     "output_type": "execute_result"
    }
   ],
   "source": [
    "df"
   ]
  },
  {
   "cell_type": "code",
   "execution_count": 4,
   "metadata": {
    "ExecuteTime": {
     "end_time": "2021-07-01T20:22:22.451116Z",
     "start_time": "2021-07-01T20:22:22.446853Z"
    }
   },
   "outputs": [
    {
     "data": {
      "text/plain": [
       "Index(['field_1', 'id', 'date', 'price', 'bedrooms', 'bathrooms',\n",
       "       'sqft_living', 'sqft_lot', 'floors', 'waterfront', 'view', 'condition',\n",
       "       'grade', 'sqft_above', 'sqft_basement', 'yr_built', 'yr_renovated',\n",
       "       'zipcode', 'lat', 'long', 'sqft_living15', 'sqft_lot15', 'tracts',\n",
       "       'ESL_Score', 'Income_Sco', 'RE_Score', 'TotalScore', 'WeightedTo',\n",
       "       'PercentESL', 'MedianHous', 'PercentPOC', 'compared_to_neighbors',\n",
       "       'lot_compared_to_neighbors', 'empty_lot_space'],\n",
       "      dtype='object')"
      ]
     },
     "execution_count": 4,
     "metadata": {},
     "output_type": "execute_result"
    }
   ],
   "source": [
    "df.columns"
   ]
  },
  {
   "cell_type": "code",
   "execution_count": 5,
   "metadata": {
    "ExecuteTime": {
     "end_time": "2021-07-01T20:22:22.467794Z",
     "start_time": "2021-07-01T20:22:22.453231Z"
    }
   },
   "outputs": [],
   "source": [
    "df['tract_num'] = df.tracts.str[5:]\n",
    "df.tract_num  = df.tract_num.astype(int)"
   ]
  },
  {
   "cell_type": "code",
   "execution_count": 6,
   "metadata": {
    "ExecuteTime": {
     "end_time": "2021-07-01T20:22:22.486853Z",
     "start_time": "2021-07-01T20:22:22.469748Z"
    }
   },
   "outputs": [],
   "source": [
    "X = df.copy()\n",
    "y = df.price\n",
    "\n",
    "X_train, X_test, y_train, y_test = train_test_split(X, y, test_size=.25, random_state=42)\n"
   ]
  },
  {
   "cell_type": "code",
   "execution_count": 7,
   "metadata": {
    "ExecuteTime": {
     "end_time": "2021-07-01T20:22:22.492472Z",
     "start_time": "2021-07-01T20:22:22.489243Z"
    }
   },
   "outputs": [],
   "source": [
    "numeric = ['sqft_living', 'sqft_lot', 'sqft_living15', 'sqft_lot15','sqft_above', \n",
    "           'grade', 'condition','bathrooms', 'bedrooms', 'yr_built', \n",
    "           'compared_to_neighbors', 'empty_lot_space', 'MedianHous']\n",
    "\n",
    "cats = ['tract_num']"
   ]
  },
  {
   "cell_type": "code",
   "execution_count": 8,
   "metadata": {
    "ExecuteTime": {
     "end_time": "2021-07-01T20:22:22.508817Z",
     "start_time": "2021-07-01T20:22:22.497744Z"
    }
   },
   "outputs": [
    {
     "data": {
      "text/html": [
       "<div>\n",
       "<style scoped>\n",
       "    .dataframe tbody tr th:only-of-type {\n",
       "        vertical-align: middle;\n",
       "    }\n",
       "\n",
       "    .dataframe tbody tr th {\n",
       "        vertical-align: top;\n",
       "    }\n",
       "\n",
       "    .dataframe thead th {\n",
       "        text-align: right;\n",
       "    }\n",
       "</style>\n",
       "<table border=\"1\" class=\"dataframe\">\n",
       "  <thead>\n",
       "    <tr style=\"text-align: right;\">\n",
       "      <th></th>\n",
       "      <th>tract_num</th>\n",
       "    </tr>\n",
       "  </thead>\n",
       "  <tbody>\n",
       "    <tr>\n",
       "      <th>15981</th>\n",
       "      <td>10500</td>\n",
       "    </tr>\n",
       "    <tr>\n",
       "      <th>9576</th>\n",
       "      <td>32311</td>\n",
       "    </tr>\n",
       "    <tr>\n",
       "      <th>1212</th>\n",
       "      <td>21400</td>\n",
       "    </tr>\n",
       "    <tr>\n",
       "      <th>18840</th>\n",
       "      <td>1702</td>\n",
       "    </tr>\n",
       "    <tr>\n",
       "      <th>20748</th>\n",
       "      <td>30003</td>\n",
       "    </tr>\n",
       "    <tr>\n",
       "      <th>...</th>\n",
       "      <td>...</td>\n",
       "    </tr>\n",
       "    <tr>\n",
       "      <th>11296</th>\n",
       "      <td>31903</td>\n",
       "    </tr>\n",
       "    <tr>\n",
       "      <th>11977</th>\n",
       "      <td>23000</td>\n",
       "    </tr>\n",
       "    <tr>\n",
       "      <th>5397</th>\n",
       "      <td>30003</td>\n",
       "    </tr>\n",
       "    <tr>\n",
       "      <th>860</th>\n",
       "      <td>27400</td>\n",
       "    </tr>\n",
       "    <tr>\n",
       "      <th>15814</th>\n",
       "      <td>25003</td>\n",
       "    </tr>\n",
       "  </tbody>\n",
       "</table>\n",
       "<p>16178 rows × 1 columns</p>\n",
       "</div>"
      ],
      "text/plain": [
       "       tract_num\n",
       "15981      10500\n",
       "9576       32311\n",
       "1212       21400\n",
       "18840       1702\n",
       "20748      30003\n",
       "...          ...\n",
       "11296      31903\n",
       "11977      23000\n",
       "5397       30003\n",
       "860        27400\n",
       "15814      25003\n",
       "\n",
       "[16178 rows x 1 columns]"
      ]
     },
     "execution_count": 8,
     "metadata": {},
     "output_type": "execute_result"
    }
   ],
   "source": [
    "X_train[cats]"
   ]
  },
  {
   "cell_type": "code",
   "execution_count": 9,
   "metadata": {
    "ExecuteTime": {
     "end_time": "2021-07-01T20:22:22.559326Z",
     "start_time": "2021-07-01T20:22:22.513723Z"
    }
   },
   "outputs": [],
   "source": [
    "ohe = OneHotEncoder(sparse=False)\n",
    "ohe.fit(X_train[cats])\n",
    "\n",
    "X_train_encoded = ohe.transform(X_train[cats])\n",
    "X_test_encoded = ohe.transform(X_test[cats])\n",
    "\n",
    "X_train_encoded_df = pd.DataFrame(X_train_encoded, columns=ohe.get_feature_names())\n",
    "X_test_encoded_df = pd.DataFrame(X_test_encoded, columns=ohe.get_feature_names())\n",
    "# X_train_ohe = pd.DataFrame(ohe.transform(X_train[['tract_num']]), columns = ohe.get_feature_names())\n",
    "# X_train_ohe.columns = X_train_ohe.columns.str.replace('x0', 'census_tract')\n",
    "# X_train = pd.concat([X_train[numeric].reset_index(), X_train_ohe], axis=1)\n",
    "# #X_train = X_train.drop('index', axis=1)"
   ]
  },
  {
   "cell_type": "code",
   "execution_count": 10,
   "metadata": {
    "ExecuteTime": {
     "end_time": "2021-07-01T20:22:22.579485Z",
     "start_time": "2021-07-01T20:22:22.561646Z"
    }
   },
   "outputs": [],
   "source": [
    "scaler = MinMaxScaler()\n",
    "\n",
    "X_train_scaled = pd.DataFrame(scaler.fit_transform(X_train[numeric]), columns=numeric)\n",
    "X_test_scaled = pd.DataFrame(scaler.transform(X_test[numeric]), columns=numeric)"
   ]
  },
  {
   "cell_type": "code",
   "execution_count": 11,
   "metadata": {
    "ExecuteTime": {
     "end_time": "2021-07-01T20:22:22.653804Z",
     "start_time": "2021-07-01T20:22:22.581052Z"
    }
   },
   "outputs": [],
   "source": [
    "X_train_concat = pd.concat([X_train_scaled, X_train_encoded_df], axis=1)\n",
    "X_test_concat = pd.concat([X_test_scaled, X_test_encoded_df], axis=1)"
   ]
  },
  {
   "cell_type": "code",
   "execution_count": 12,
   "metadata": {
    "ExecuteTime": {
     "end_time": "2021-07-01T20:22:22.658638Z",
     "start_time": "2021-07-01T20:22:22.656220Z"
    }
   },
   "outputs": [],
   "source": [
    "#X_train['target'] = y_train\n",
    "#X_train = X_train[np.abs(stats.zscore(X_train['target'])) < 3]\n",
    "#y_train = X_train['target']\n",
    "#X_train = X_train.drop('target', axis = 1)"
   ]
  },
  {
   "cell_type": "code",
   "execution_count": 13,
   "metadata": {
    "ExecuteTime": {
     "end_time": "2021-07-01T20:22:22.664576Z",
     "start_time": "2021-07-01T20:22:22.661195Z"
    }
   },
   "outputs": [],
   "source": [
    "y_train = np.log(y_train)\n",
    "y_test = np.log(y_test)"
   ]
  },
  {
   "cell_type": "code",
   "execution_count": 14,
   "metadata": {
    "ExecuteTime": {
     "end_time": "2021-07-01T20:22:22.671084Z",
     "start_time": "2021-07-01T20:22:22.666407Z"
    }
   },
   "outputs": [
    {
     "name": "stdout",
     "output_type": "stream",
     "text": [
      "Training features length:  16178\n",
      "Testing features length:  5393\n",
      "Training target length:  16178\n",
      "Testing target length:  5393\n"
     ]
    }
   ],
   "source": [
    "print('Training features length: ', len(X_train_concat))\n",
    "print('Testing features length: ', len(X_test_concat))\n",
    "print('Training target length: ', len(y_train))\n",
    "print('Testing target length: ', len(y_test))"
   ]
  },
  {
   "cell_type": "code",
   "execution_count": 15,
   "metadata": {
    "ExecuteTime": {
     "end_time": "2021-07-01T20:22:22.677759Z",
     "start_time": "2021-07-01T20:22:22.674555Z"
    }
   },
   "outputs": [],
   "source": [
    "lr = LinearRegression()"
   ]
  },
  {
   "cell_type": "code",
   "execution_count": 16,
   "metadata": {
    "ExecuteTime": {
     "end_time": "2021-07-01T20:22:23.143250Z",
     "start_time": "2021-07-01T20:22:22.680621Z"
    }
   },
   "outputs": [
    {
     "data": {
      "text/plain": [
       "LinearRegression()"
      ]
     },
     "execution_count": 16,
     "metadata": {},
     "output_type": "execute_result"
    }
   ],
   "source": [
    "lr.fit(X_train_concat, y_train)"
   ]
  },
  {
   "cell_type": "code",
   "execution_count": 17,
   "metadata": {
    "ExecuteTime": {
     "end_time": "2021-07-01T20:22:23.186574Z",
     "start_time": "2021-07-01T20:22:23.145592Z"
    }
   },
   "outputs": [],
   "source": [
    "train_preds = lr.predict(X_train_concat)\n",
    "test_preds = lr.predict(X_test_concat)"
   ]
  },
  {
   "cell_type": "code",
   "execution_count": 18,
   "metadata": {
    "ExecuteTime": {
     "end_time": "2021-07-01T20:22:23.199926Z",
     "start_time": "2021-07-01T20:22:23.188880Z"
    }
   },
   "outputs": [
    {
     "name": "stdout",
     "output_type": "stream",
     "text": [
      "r squared 0.8804994257888776\n"
     ]
    }
   ],
   "source": [
    "print(\"r squared\", lr.score(X_test_concat, y_test))"
   ]
  },
  {
   "cell_type": "code",
   "execution_count": 19,
   "metadata": {
    "ExecuteTime": {
     "end_time": "2021-07-01T20:22:23.212051Z",
     "start_time": "2021-07-01T20:22:23.202438Z"
    },
    "tags": []
   },
   "outputs": [],
   "source": [
    "train_error = mean_squared_error(np.exp(y_train), np.exp(train_preds), squared = False)\n",
    "test_error = mean_squared_error(np.exp(y_test), np.exp(test_preds), squared = False)"
   ]
  },
  {
   "cell_type": "code",
   "execution_count": 20,
   "metadata": {
    "ExecuteTime": {
     "end_time": "2021-07-01T20:22:23.218214Z",
     "start_time": "2021-07-01T20:22:23.214369Z"
    }
   },
   "outputs": [
    {
     "data": {
      "text/plain": [
       "(137130.5364113896, 137400.4192275774)"
      ]
     },
     "execution_count": 20,
     "metadata": {},
     "output_type": "execute_result"
    }
   ],
   "source": [
    "train_error, test_error"
   ]
  },
  {
   "cell_type": "code",
   "execution_count": 21,
   "metadata": {
    "ExecuteTime": {
     "end_time": "2021-07-01T20:22:23.225908Z",
     "start_time": "2021-07-01T20:22:23.221164Z"
    }
   },
   "outputs": [],
   "source": [
    "def quantile_error(X, y, qant):\n",
    "\n",
    "    quantiles = pd.DataFrame(pd.qcut(np.exp(y), q=qant))\n",
    "    e = np.exp(lr.predict(X)) - np.exp(y)\n",
    "    quantiles['error'] = e\n",
    "    error_df = quantiles.groupby('price').mean()['error']\n",
    "    error_df = pd.DataFrame(error_df).reset_index()\n",
    "    plt.rcParams[\"figure.figsize\"] = (20, 10)\n",
    "    figure =  error_df.plot.bar(x='price', y='error', rot=45)\n",
    "    return figure"
   ]
  },
  {
   "cell_type": "code",
   "execution_count": 22,
   "metadata": {
    "ExecuteTime": {
     "end_time": "2021-07-01T20:22:23.588651Z",
     "start_time": "2021-07-01T20:22:23.228677Z"
    },
    "scrolled": false
   },
   "outputs": [
    {
     "data": {
      "text/plain": [
       "<AxesSubplot:xlabel='price'>"
      ]
     },
     "execution_count": 22,
     "metadata": {},
     "output_type": "execute_result"
    },
    {
     "data": {
      "image/png": "[encoded data removed]",
      "text/plain": [
       "<Figure size 1440x720 with 1 Axes>"
      ]
     },
     "metadata": {
      "needs_background": "light"
     },
     "output_type": "display_data"
    }
   ],
   "source": [
    "quantile_error(X_train_concat, y_train, 20)"
   ]
  },
  {
   "cell_type": "code",
   "execution_count": 41,
   "metadata": {
    "ExecuteTime": {
     "end_time": "2021-07-01T20:28:27.973833Z",
     "start_time": "2021-07-01T20:28:27.305040Z"
    }
   },
   "outputs": [
    {
     "data": {
      "image/png": "[encoded data removed]",
      "text/plain": [
       "<Figure size 1440x720 with 1 Axes>"
      ]
     },
     "metadata": {
      "needs_background": "light"
     },
     "output_type": "display_data"
    }
   ],
   "source": [
    "plt.hist('price', bins=500, data=df, range=(0,5000000));\n",
    "plt.xticks(ticks=[0,100000,500000,750000,1000000,2000000,4000000], rotation=45);"
   ]
  },
  {
   "cell_type": "code",
   "execution_count": null,
   "metadata": {
    "ExecuteTime": {
     "end_time": "2021-07-01T20:22:23.808689Z",
     "start_time": "2021-07-01T20:22:19.937Z"
    }
   },
   "outputs": [],
   "source": [
    "X_train[(np.exp(y_train) > 5000000)]\n",
    "\n",
    "\n"
   ]
  },
  {
   "cell_type": "code",
   "execution_count": null,
   "metadata": {
    "ExecuteTime": {
     "end_time": "2021-07-01T20:22:23.810352Z",
     "start_time": "2021-07-01T20:22:19.943Z"
    }
   },
   "outputs": [],
   "source": [
    "y = X_train.lat\n",
    "x = X_train.long\n",
    "plt.scatter(x, y, color='red')\n",
    "_ = X_train[(np.exp(y_train) < 100000)]\n",
    "y = _.lat\n",
    "x = _.long\n",
    "plt.scatter(x, y, color='green', s=100)"
   ]
  },
  {
   "cell_type": "code",
   "execution_count": null,
   "metadata": {
    "ExecuteTime": {
     "end_time": "2021-07-01T20:22:23.812248Z",
     "start_time": "2021-07-01T20:22:19.946Z"
    }
   },
   "outputs": [],
   "source": [
    "X_train_concat.columns"
   ]
  },
  {
   "cell_type": "code",
   "execution_count": null,
   "metadata": {
    "ExecuteTime": {
     "end_time": "2021-07-01T20:22:23.814641Z",
     "start_time": "2021-07-01T20:22:19.949Z"
    }
   },
   "outputs": [],
   "source": [
    "X_train[(np.exp(y_train) > 5000000)]"
   ]
  },
  {
   "cell_type": "code",
   "execution_count": null,
   "metadata": {
    "ExecuteTime": {
     "end_time": "2021-07-01T20:22:23.816713Z",
     "start_time": "2021-07-01T20:22:19.952Z"
    }
   },
   "outputs": [],
   "source": [
    "x = X_train['empty_lot_space']"
   ]
  },
  {
   "cell_type": "code",
   "execution_count": null,
   "metadata": {
    "ExecuteTime": {
     "end_time": "2021-07-01T20:22:23.818693Z",
     "start_time": "2021-07-01T20:22:19.954Z"
    }
   },
   "outputs": [],
   "source": [
    "def empty_lot_quantile(X, y, qant):\n",
    "\n",
    "    quantiles = pd.DataFrame(pd.qcut(np.exp(y), q=qant))\n",
    "    #e = np.exp(lr.predict(X)) - np.exp(y)\n",
    "    quantiles['MedianHous'] = X['MedianHous']\n",
    "    error_df = quantiles.groupby('price').mean()['MedianHous']\n",
    "    error_df = pd.DataFrame(error_df).reset_index()\n",
    "    #plt.rcParams[\"figure.figsize\"] = (20, 10)\n",
    "    figure =  error_df.plot.bar(x='price', y='MedianHous', rot=45)\n",
    "    plt.xlabel(\"home price quartiles\")\n",
    "    plt.ylabel(\"Median Household Income ($)\", fontsize=15)\n",
    "    plt.xlabel(\"Home Price Quantiles ($)\", fontsize=15)\n",
    "    plt.title('How Census Tract Median Household Income Aligns with Home Price Quantiles', fontsize=20)\n",
    "    plt.ylim(bottom=60000)\n",
    "    #figure.plot(figsize = (5,5))\n",
    "    return figure"
   ]
  },
  {
   "cell_type": "code",
   "execution_count": null,
   "metadata": {
    "ExecuteTime": {
     "end_time": "2021-07-01T20:22:23.821280Z",
     "start_time": "2021-07-01T20:22:19.957Z"
    }
   },
   "outputs": [],
   "source": [
    "empty_lot_quantile(X_train, y_train, 50)"
   ]
  },
  {
   "cell_type": "code",
   "execution_count": null,
   "metadata": {
    "ExecuteTime": {
     "end_time": "2021-07-01T20:22:23.823499Z",
     "start_time": "2021-07-01T20:22:19.959Z"
    }
   },
   "outputs": [],
   "source": [
    "def feature_importance(model, X, num=20):\n",
    "    features = list(X.columns)\n",
    "    feature_weight = pd.DataFrame(features, columns=['feature'])\n",
    "    feature_weight['coef'] = model.coef_\n",
    "    feature_weight['coef_abs'] = np.abs(model.coef_)\n",
    "    importance = feature_weight.sort_values('coef_abs', ascending=False).iloc[:num]\n",
    "    plt.figure(figsize=(15,6))\n",
    "    colors = ['blue' if x > 0 else 'red' for x in importance.coef]\n",
    "    plt.bar(importance[\"feature\"], importance['coef_abs'], color=colors)\n",
    "    plt.xticks(rotation=45)\n",
    "    return importance"
   ]
  },
  {
   "cell_type": "code",
   "execution_count": null,
   "metadata": {
    "ExecuteTime": {
     "end_time": "2021-07-01T20:22:23.825230Z",
     "start_time": "2021-07-01T20:22:19.961Z"
    }
   },
   "outputs": [],
   "source": [
    "importance = feature_importance(lr.fit(X_train_scaled, y_train), X_train_scaled)"
   ]
  },
  {
   "cell_type": "code",
   "execution_count": null,
   "metadata": {
    "ExecuteTime": {
     "end_time": "2021-07-01T19:28:33.914430Z",
     "start_time": "2021-07-01T19:28:33.907062Z"
    }
   },
   "outputs": [],
   "source": []
  },
  {
   "cell_type": "code",
   "execution_count": null,
   "metadata": {
    "ExecuteTime": {
     "end_time": "2021-07-01T16:04:39.762891Z",
     "start_time": "2021-07-01T16:04:39.750534Z"
    }
   },
   "outputs": [],
   "source": []
  },
  {
   "cell_type": "code",
   "execution_count": null,
   "metadata": {},
   "outputs": [],
   "source": []
  }
 ],
 "metadata": {
  "kernelspec": {
   "display_name": "learn-env",
   "language": "python",
   "name": "learn-env"
  },
  "language_info": {
   "codemirror_mode": {
    "name": "ipython",
    "version": 3
   },
   "file_extension": ".py",
   "mimetype": "text/x-python",
   "name": "python",
   "nbconvert_exporter": "python",
   "pygments_lexer": "ipython3",
   "version": "3.8.5"
  }
 },
 "nbformat": 4,
 "nbformat_minor": 5
}
