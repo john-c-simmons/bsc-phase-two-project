{
 "cells": [
  {
   "cell_type": "code",
   "execution_count": 82,
   "id": "838d26ff-7113-4ef3-b39e-fd07591d08cd",
   "metadata": {},
   "outputs": [],
   "source": [
    "import pandas as pd\n",
    "import seaborn as sns\n",
    "import matplotlib as plt\n",
    "from geopy.geocoders import Nominatim\n",
    "import numpy as np\n",
    "from shapely.geometry import Point, Polygon\n",
    "import json\n",
    "df = pd.read_csv('../../../data/kc_house_data.csv')\n",
    "with open('../../../data/Consolidated_Demographics_Index_for_King_County_Census_Tracts___demographic_index_area.geojson') as f:\n",
    "    census_tract = json.load(f)"
   ]
  },
  {
   "cell_type": "code",
   "execution_count": 58,
   "id": "5521cc11-8b01-4eb4-8442-ec8457ed14dc",
   "metadata": {},
   "outputs": [],
   "source": []
  },
  {
   "cell_type": "code",
   "execution_count": 59,
   "id": "cf076dd1-3cef-4522-bc11-9d8e3748ef48",
   "metadata": {},
   "outputs": [],
   "source": []
  },
  {
   "cell_type": "code",
   "execution_count": null,
   "id": "61ee1ced-96d5-4a0c-8000-38168c0b1b8e",
   "metadata": {},
   "outputs": [],
   "source": []
  },
  {
   "cell_type": "code",
   "execution_count": 83,
   "id": "3f9fb2f6-695c-4daa-a79d-ef19b87e2a29",
   "metadata": {},
   "outputs": [
    {
     "data": {
      "image/svg+xml": [
       "<svg xmlns=\"http://www.w3.org/2000/svg\" xmlns:xlink=\"http://www.w3.org/1999/xlink\" width=\"100.0\" height=\"100.0\" viewBox=\"-122.3639258398838 47.68999854829573 0.014594415029790753 0.015665380962126108\" preserveAspectRatio=\"xMinYMin meet\"><g transform=\"matrix(1,0,0,-1,0,95.3956624775536)\"><path fill-rule=\"evenodd\" fill=\"#66cc99\" stroke=\"#555555\" stroke-width=\"0.00031330761924252214\" opacity=\"0.6\" d=\"M -122.35007368859192,47.70506774138125 L -122.3508046885068,47.70506573957841 L -122.35142368863194,47.705071738733295 L -122.35276368968567,47.70507573553006 L -122.35411168928309,47.70507973312016 L -122.35545268990859,47.705083729962965 L -122.3554446855053,47.704358730514315 L -122.355437682169,47.70363473063563 L -122.3554296795306,47.70290973111566 L -122.35542267659872,47.70218573118392 L -122.35541467306082,47.701460731628735 L -122.35540066668275,47.700111732853564 L -122.35539566463787,47.699649732873574 L -122.35537665754009,47.69783873395591 L -122.355358648499,47.696027735061136 L -122.35533964135259,47.694216735859314 L -122.35667964128264,47.69422273312396 L -122.35738764039525,47.69422473148086 L -122.35801964061926,47.69422773047338 L -122.35935964073356,47.69423372772418 L -122.36067664162917,47.69423872470319 L -122.36201064166708,47.694243722257454 L -122.36334564058892,47.69424971994998 L -122.36334063779131,47.6935257197778 L -122.36333563515961,47.69280172048018 L -122.3633306310271,47.69206572125083 L -122.36332562781018,47.69136472140533 L -122.3633206255692,47.69064072113527 L -122.36064762534599,47.69062572686164 L -122.35931962514914,47.69061872978451 L -122.35798162483506,47.69061073190941 L -122.35664162549348,47.69060273425791 L -122.35530162437524,47.690594737074754 L -122.3539316253831,47.69059073993962 L -122.3526016251667,47.69058674277553 L -122.35134362467815,47.690583744809906 L -122.3499116241489,47.69057874759063 L -122.3499206284696,47.691303747937745 L -122.34992963179373,47.69202774701146 L -122.34993363311231,47.69240174678874 L -122.34993763448396,47.692753746616035 L -122.34992163772219,47.69347574653743 L -122.34993464129582,47.69420174611989 L -122.34994864352129,47.694925746055105 L -122.3499716471037,47.69565074530337 L -122.34997664851126,47.696012745323884 L -122.3499846526323,47.69675974526087 L -122.3499866532635,47.69687774464873 L -122.34999765740697,47.697823744033656 L -122.35000866142057,47.69872974406752 L -122.35001866512947,47.699634743516754 L -122.35002966866926,47.70053974312021 L -122.35003367044574,47.70098874314765 L -122.35003967298451,47.701445742854254 L -122.3500416765209,47.702169742091776 L -122.35004967980935,47.702894741903684 L -122.35005768209682,47.703618741340314 L -122.35006568596582,47.70434274163174 L -122.35007368859192,47.70506774138125 z\" /></g></svg>"
      ],
      "text/plain": [
       "<shapely.geometry.polygon.Polygon at 0x7f8a2e672f70>"
      ]
     },
     "execution_count": 83,
     "metadata": {},
     "output_type": "execute_result"
    }
   ],
   "source": [
    "Polygon(census_tract['features'][0]['geometry']['coordinates'][0])"
   ]
  },
  {
   "cell_type": "code",
   "execution_count": 84,
   "id": "df47ab44-d1c0-4f00-bb5e-85ea912aa7ca",
   "metadata": {},
   "outputs": [],
   "source": [
    "# coords = []\n",
    "\n",
    "# for x in census_tract['features']:\n",
    "#     d = {}\n",
    "#     d['label'] = x['properties']['TRACT_LBL']\n",
    "#     if len(x['geometry']['coordinates']) == 1:\n",
    "#         d['shape'] = Polygon(x['geometry']['coordinates'][0])\n",
    "#     coords.append(d)"
   ]
  },
  {
   "cell_type": "code",
   "execution_count": 85,
   "id": "a693cabe-15e0-4e3c-9c19-373c974668fa",
   "metadata": {},
   "outputs": [],
   "source": [
    "coords2 = []\n",
    "\n",
    "for x in census_tract['features']:\n",
    "    d = {}\n",
    "    d['label'] = x['properties']['TRACT_LBL']\n",
    "    shape = x['geometry']['coordinates']\n",
    "    if len(shape) != 1:\n",
    "        d['shape'] = Polygon(shape[0][0]+shape[1][0])\n",
    "    else:\n",
    "        d[\"shape\"] = Polygon(shape[0])\n",
    "    coords2.append(d)"
   ]
  },
  {
   "cell_type": "code",
   "execution_count": null,
   "id": "cfdb9f6e-43c8-47c8-a9a2-0a2fe5763c1f",
   "metadata": {},
   "outputs": [],
   "source": []
  },
  {
   "cell_type": "code",
   "execution_count": 87,
   "id": "2c2ee8e5-ece6-4da0-a331-c115bdaadae8",
   "metadata": {},
   "outputs": [
    {
     "data": {
      "image/svg+xml": [
       "<svg xmlns=\"http://www.w3.org/2000/svg\" xmlns:xlink=\"http://www.w3.org/1999/xlink\" width=\"100.0\" height=\"100.0\" viewBox=\"-122.3639258398838 47.68999854829573 0.014594415029790753 0.015665380962126108\" preserveAspectRatio=\"xMinYMin meet\"><g transform=\"matrix(1,0,0,-1,0,95.3956624775536)\"><path fill-rule=\"evenodd\" fill=\"#66cc99\" stroke=\"#555555\" stroke-width=\"0.00031330761924252214\" opacity=\"0.6\" d=\"M -122.35007368859192,47.70506774138125 L -122.3508046885068,47.70506573957841 L -122.35142368863194,47.705071738733295 L -122.35276368968567,47.70507573553006 L -122.35411168928309,47.70507973312016 L -122.35545268990859,47.705083729962965 L -122.3554446855053,47.704358730514315 L -122.355437682169,47.70363473063563 L -122.3554296795306,47.70290973111566 L -122.35542267659872,47.70218573118392 L -122.35541467306082,47.701460731628735 L -122.35540066668275,47.700111732853564 L -122.35539566463787,47.699649732873574 L -122.35537665754009,47.69783873395591 L -122.355358648499,47.696027735061136 L -122.35533964135259,47.694216735859314 L -122.35667964128264,47.69422273312396 L -122.35738764039525,47.69422473148086 L -122.35801964061926,47.69422773047338 L -122.35935964073356,47.69423372772418 L -122.36067664162917,47.69423872470319 L -122.36201064166708,47.694243722257454 L -122.36334564058892,47.69424971994998 L -122.36334063779131,47.6935257197778 L -122.36333563515961,47.69280172048018 L -122.3633306310271,47.69206572125083 L -122.36332562781018,47.69136472140533 L -122.3633206255692,47.69064072113527 L -122.36064762534599,47.69062572686164 L -122.35931962514914,47.69061872978451 L -122.35798162483506,47.69061073190941 L -122.35664162549348,47.69060273425791 L -122.35530162437524,47.690594737074754 L -122.3539316253831,47.69059073993962 L -122.3526016251667,47.69058674277553 L -122.35134362467815,47.690583744809906 L -122.3499116241489,47.69057874759063 L -122.3499206284696,47.691303747937745 L -122.34992963179373,47.69202774701146 L -122.34993363311231,47.69240174678874 L -122.34993763448396,47.692753746616035 L -122.34992163772219,47.69347574653743 L -122.34993464129582,47.69420174611989 L -122.34994864352129,47.694925746055105 L -122.3499716471037,47.69565074530337 L -122.34997664851126,47.696012745323884 L -122.3499846526323,47.69675974526087 L -122.3499866532635,47.69687774464873 L -122.34999765740697,47.697823744033656 L -122.35000866142057,47.69872974406752 L -122.35001866512947,47.699634743516754 L -122.35002966866926,47.70053974312021 L -122.35003367044574,47.70098874314765 L -122.35003967298451,47.701445742854254 L -122.3500416765209,47.702169742091776 L -122.35004967980935,47.702894741903684 L -122.35005768209682,47.703618741340314 L -122.35006568596582,47.70434274163174 L -122.35007368859192,47.70506774138125 z\" /></g></svg>"
      ],
      "text/plain": [
       "<shapely.geometry.polygon.Polygon at 0x7f8a2ef8b760>"
      ]
     },
     "execution_count": 87,
     "metadata": {},
     "output_type": "execute_result"
    }
   ],
   "source": [
    "coords[0]['shape']"
   ]
  },
  {
   "cell_type": "code",
   "execution_count": 88,
   "id": "3d6829b2-915b-4598-9206-488f565f2842",
   "metadata": {},
   "outputs": [
    {
     "data": {
      "text/plain": [
       "[{'label': 'Tract 001701',\n",
       "  'shape': <shapely.geometry.polygon.Polygon at 0x7f8a36593490>},\n",
       " {'label': 'Tract 001702',\n",
       "  'shape': <shapely.geometry.polygon.Polygon at 0x7f8a36593850>},\n",
       " {'label': 'Tract 001800',\n",
       "  'shape': <shapely.geometry.polygon.Polygon at 0x7f8a365932b0>},\n",
       " {'label': 'Tract 001600',\n",
       "  'shape': <shapely.geometry.polygon.Polygon at 0x7f8a365932e0>},\n",
       " {'label': 'Tract 001500',\n",
       "  'shape': <shapely.geometry.polygon.Polygon at 0x7f8a36593580>},\n",
       " {'label': 'Tract 001400',\n",
       "  'shape': <shapely.geometry.polygon.Polygon at 0x7f8a36593070>},\n",
       " {'label': 'Tract 001300',\n",
       "  'shape': <shapely.geometry.polygon.Polygon at 0x7f8a36593400>},\n",
       " {'label': 'Tract 001200',\n",
       "  'shape': <shapely.geometry.polygon.Polygon at 0x7f8a36593190>},\n",
       " {'label': 'Tract 001900',\n",
       "  'shape': <shapely.geometry.polygon.Polygon at 0x7f8a36593310>},\n",
       " {'label': 'Tract 002600',\n",
       "  'shape': <shapely.geometry.polygon.Polygon at 0x7f8a36593520>},\n",
       " {'label': 'Tract 002000',\n",
       "  'shape': <shapely.geometry.polygon.Polygon at 0x7f8a36593130>},\n",
       " {'label': 'Tract 002100',\n",
       "  'shape': <shapely.geometry.polygon.Polygon at 0x7f8a365934c0>},\n",
       " {'label': 'Tract 002200',\n",
       "  'shape': <shapely.geometry.polygon.Polygon at 0x7f8a36593730>},\n",
       " {'label': 'Tract 002400',\n",
       "  'shape': <shapely.geometry.polygon.Polygon at 0x7f8a36593a00>},\n",
       " {'label': 'Tract 002500',\n",
       "  'shape': <shapely.geometry.polygon.Polygon at 0x7f8a36593b20>},\n",
       " {'label': 'Tract 002700',\n",
       "  'shape': <shapely.geometry.polygon.Polygon at 0x7f8a365933d0>},\n",
       " {'label': 'Tract 002800',\n",
       "  'shape': <shapely.geometry.polygon.Polygon at 0x7f8a36593bb0>},\n",
       " {'label': 'Tract 002900',\n",
       "  'shape': <shapely.geometry.polygon.Polygon at 0x7f8a36593910>},\n",
       " {'label': 'Tract 003000',\n",
       "  'shape': <shapely.geometry.polygon.Polygon at 0x7f8a36593b80>},\n",
       " {'label': 'Tract 003100',\n",
       "  'shape': <shapely.geometry.polygon.Polygon at 0x7f8a365938e0>}]"
      ]
     },
     "execution_count": 88,
     "metadata": {},
     "output_type": "execute_result"
    }
   ],
   "source": [
    "coords2[0:20]"
   ]
  },
  {
   "cell_type": "code",
   "execution_count": 65,
   "id": "1ebc6c9b-e679-48b5-a118-ca09af23ff3c",
   "metadata": {},
   "outputs": [],
   "source": [
    "# long = df.iloc[0]['long']\n",
    "# lat = df.iloc[0]['lat']\n",
    "# point = Point(long, lat)\n",
    "\n",
    "# coords2[0]['shape'].within(point)"
   ]
  },
  {
   "cell_type": "code",
   "execution_count": null,
   "id": "78ca1143-a9ac-405c-b73b-3a5810b3dac1",
   "metadata": {},
   "outputs": [],
   "source": []
  },
  {
   "cell_type": "code",
   "execution_count": 66,
   "id": "db40e976-729b-4f68-ba17-20975df19505",
   "metadata": {},
   "outputs": [
    {
     "data": {
      "text/plain": [
       "{'label': 'Tract 032327',\n",
       " 'shape': <shapely.geometry.polygon.Polygon at 0x7f8a365930a0>}"
      ]
     },
     "execution_count": 66,
     "metadata": {},
     "output_type": "execute_result"
    }
   ],
   "source": [
    "coords2[-1]"
   ]
  },
  {
   "cell_type": "code",
   "execution_count": 67,
   "id": "f9eb4172-c643-4b05-99f6-e01973583f60",
   "metadata": {},
   "outputs": [
    {
     "data": {
      "image/svg+xml": [
       "<svg xmlns=\"http://www.w3.org/2000/svg\" xmlns:xlink=\"http://www.w3.org/1999/xlink\" width=\"100.0\" height=\"100.0\" viewBox=\"-123.257 46.5112 2.0 2.0\" preserveAspectRatio=\"xMinYMin meet\"><g transform=\"matrix(1,0,0,-1,0,95.0224)\"><circle cx=\"-122.257\" cy=\"47.5112\" r=\"0.06\" stroke=\"#555555\" stroke-width=\"0.02\" fill=\"#66cc99\" opacity=\"0.6\" /></g></svg>"
      ],
      "text/plain": [
       "<shapely.geometry.point.Point at 0x7f8a2e672f40>"
      ]
     },
     "execution_count": 67,
     "metadata": {},
     "output_type": "execute_result"
    }
   ],
   "source": [
    "point"
   ]
  },
  {
   "cell_type": "code",
   "execution_count": 94,
   "id": "00768ad1-6c9d-4b24-83e1-0e9e0fbeb6cf",
   "metadata": {},
   "outputs": [
    {
     "data": {
      "text/plain": [
       "[{'label': 'Tract 001701',\n",
       "  'shape': <shapely.geometry.polygon.Polygon at 0x7f8a2ef8b760>},\n",
       " {'label': 'Tract 001702',\n",
       "  'shape': <shapely.geometry.polygon.Polygon at 0x7f8a2ef8be50>}]"
      ]
     },
     "execution_count": 94,
     "metadata": {},
     "output_type": "execute_result"
    }
   ],
   "source": [
    "# coord_shapes = []\n",
    "# for coord in coords:\n",
    "#     if len(coord) >= 2:\n",
    "#         coord_shapes.append(coord)\n",
    "# coord_shapes[:2]"
   ]
  },
  {
   "cell_type": "code",
   "execution_count": 96,
   "id": "6e0c3078-1ca2-4751-9b6c-cfbabb2a3ec0",
   "metadata": {},
   "outputs": [],
   "source": [
    "# long = df.iloc[1]['long']\n",
    "# lat = df.iloc[1]['lat']\n",
    "# point = Point(long, lat)\n",
    "# point_list = []\n",
    "\n",
    "# for home in df:\n",
    "#     point_list.apppend(Point(df.iloc[home]['long'], df.iloc[home]['lat']))"
   ]
  },
  {
   "cell_type": "code",
   "execution_count": 97,
   "id": "f0f91b35-213e-4e1b-a0cd-ccf45573b5b0",
   "metadata": {},
   "outputs": [
    {
     "name": "stderr",
     "output_type": "stream",
     "text": [
      "<ipython-input-97-4db589e91429>:1: UserWarning: Pandas doesn't allow columns to be created via a new attribute name - see https://pandas.pydata.org/pandas-docs/stable/indexing.html#attribute-access\n",
      "  df.coordinates = list(zip(df.long, df.lat))\n"
     ]
    }
   ],
   "source": [
    "df.coordinates = list(zip(df.long, df.lat))"
   ]
  },
  {
   "cell_type": "code",
   "execution_count": 98,
   "id": "8b8d6fe1-25b2-4054-86af-aab985e4d0b9",
   "metadata": {
    "tags": []
   },
   "outputs": [
    {
     "data": {
      "text/plain": [
       "[(-122.257, 47.5112),\n",
       " (-122.319, 47.721000000000004),\n",
       " (-122.23299999999999, 47.7379)]"
      ]
     },
     "execution_count": 98,
     "metadata": {},
     "output_type": "execute_result"
    }
   ],
   "source": [
    "df.coordinates[0:3]"
   ]
  },
  {
   "cell_type": "code",
   "execution_count": 72,
   "id": "83234baf-7e13-48ce-842a-4c38ce2d7651",
   "metadata": {},
   "outputs": [],
   "source": [
    "tracts = []\n",
    "for coordinate in df.coordinates:\n",
    "    point = Point(coordinate)\n",
    "    found = False\n",
    "    for x in coords2:\n",
    "        if x['shape'].contains(point):\n",
    "            tracts.append(x['label'])\n",
    "            found = True\n",
    "            \n",
    "    if not found:\n",
    "        tracts.append(0)\n",
    "        "
   ]
  },
  {
   "cell_type": "code",
   "execution_count": 73,
   "id": "1a23110e-e20e-4da1-a78c-bd0bcba51ef7",
   "metadata": {},
   "outputs": [
    {
     "data": {
      "text/plain": [
       "21597"
      ]
     },
     "execution_count": 73,
     "metadata": {},
     "output_type": "execute_result"
    }
   ],
   "source": [
    "len(tracts)"
   ]
  },
  {
   "cell_type": "code",
   "execution_count": 74,
   "id": "e033a03d-7478-4727-9558-227361e9de6e",
   "metadata": {},
   "outputs": [],
   "source": [
    "df['tracts'] = tracts"
   ]
  },
  {
   "cell_type": "code",
   "execution_count": 21,
   "id": "054c6164-364c-41b4-8bf2-e142a0e80cd2",
   "metadata": {},
   "outputs": [
    {
     "data": {
      "text/html": [
       "<div>\n",
       "<style scoped>\n",
       "    .dataframe tbody tr th:only-of-type {\n",
       "        vertical-align: middle;\n",
       "    }\n",
       "\n",
       "    .dataframe tbody tr th {\n",
       "        vertical-align: top;\n",
       "    }\n",
       "\n",
       "    .dataframe thead th {\n",
       "        text-align: right;\n",
       "    }\n",
       "</style>\n",
       "<table border=\"1\" class=\"dataframe\">\n",
       "  <thead>\n",
       "    <tr style=\"text-align: right;\">\n",
       "      <th></th>\n",
       "      <th>id</th>\n",
       "      <th>date</th>\n",
       "      <th>price</th>\n",
       "      <th>bedrooms</th>\n",
       "      <th>bathrooms</th>\n",
       "      <th>sqft_living</th>\n",
       "      <th>sqft_lot</th>\n",
       "      <th>floors</th>\n",
       "      <th>waterfront</th>\n",
       "      <th>view</th>\n",
       "      <th>...</th>\n",
       "      <th>sqft_above</th>\n",
       "      <th>sqft_basement</th>\n",
       "      <th>yr_built</th>\n",
       "      <th>yr_renovated</th>\n",
       "      <th>zipcode</th>\n",
       "      <th>lat</th>\n",
       "      <th>long</th>\n",
       "      <th>sqft_living15</th>\n",
       "      <th>sqft_lot15</th>\n",
       "      <th>tracts</th>\n",
       "    </tr>\n",
       "  </thead>\n",
       "  <tbody>\n",
       "    <tr>\n",
       "      <th>0</th>\n",
       "      <td>7129300520</td>\n",
       "      <td>10/13/2014</td>\n",
       "      <td>221900.0</td>\n",
       "      <td>3</td>\n",
       "      <td>1.00</td>\n",
       "      <td>1180</td>\n",
       "      <td>5650</td>\n",
       "      <td>1.0</td>\n",
       "      <td>NaN</td>\n",
       "      <td>0.0</td>\n",
       "      <td>...</td>\n",
       "      <td>1180</td>\n",
       "      <td>0.0</td>\n",
       "      <td>1955</td>\n",
       "      <td>0.0</td>\n",
       "      <td>98178</td>\n",
       "      <td>47.5112</td>\n",
       "      <td>-122.257</td>\n",
       "      <td>1340</td>\n",
       "      <td>5650</td>\n",
       "      <td>Tract 011900</td>\n",
       "    </tr>\n",
       "    <tr>\n",
       "      <th>1</th>\n",
       "      <td>6414100192</td>\n",
       "      <td>12/9/2014</td>\n",
       "      <td>538000.0</td>\n",
       "      <td>3</td>\n",
       "      <td>2.25</td>\n",
       "      <td>2570</td>\n",
       "      <td>7242</td>\n",
       "      <td>2.0</td>\n",
       "      <td>0.0</td>\n",
       "      <td>0.0</td>\n",
       "      <td>...</td>\n",
       "      <td>2170</td>\n",
       "      <td>400.0</td>\n",
       "      <td>1951</td>\n",
       "      <td>1991.0</td>\n",
       "      <td>98125</td>\n",
       "      <td>47.7210</td>\n",
       "      <td>-122.319</td>\n",
       "      <td>1690</td>\n",
       "      <td>7639</td>\n",
       "      <td>Tract 000200</td>\n",
       "    </tr>\n",
       "    <tr>\n",
       "      <th>2</th>\n",
       "      <td>5631500400</td>\n",
       "      <td>2/25/2015</td>\n",
       "      <td>180000.0</td>\n",
       "      <td>2</td>\n",
       "      <td>1.00</td>\n",
       "      <td>770</td>\n",
       "      <td>10000</td>\n",
       "      <td>1.0</td>\n",
       "      <td>0.0</td>\n",
       "      <td>0.0</td>\n",
       "      <td>...</td>\n",
       "      <td>770</td>\n",
       "      <td>0.0</td>\n",
       "      <td>1933</td>\n",
       "      <td>NaN</td>\n",
       "      <td>98028</td>\n",
       "      <td>47.7379</td>\n",
       "      <td>-122.233</td>\n",
       "      <td>2720</td>\n",
       "      <td>8062</td>\n",
       "      <td>Tract 022102</td>\n",
       "    </tr>\n",
       "    <tr>\n",
       "      <th>3</th>\n",
       "      <td>2487200875</td>\n",
       "      <td>12/9/2014</td>\n",
       "      <td>604000.0</td>\n",
       "      <td>4</td>\n",
       "      <td>3.00</td>\n",
       "      <td>1960</td>\n",
       "      <td>5000</td>\n",
       "      <td>1.0</td>\n",
       "      <td>0.0</td>\n",
       "      <td>0.0</td>\n",
       "      <td>...</td>\n",
       "      <td>1050</td>\n",
       "      <td>910.0</td>\n",
       "      <td>1965</td>\n",
       "      <td>0.0</td>\n",
       "      <td>98136</td>\n",
       "      <td>47.5208</td>\n",
       "      <td>-122.393</td>\n",
       "      <td>1360</td>\n",
       "      <td>5000</td>\n",
       "      <td>Tract 011600</td>\n",
       "    </tr>\n",
       "    <tr>\n",
       "      <th>4</th>\n",
       "      <td>1954400510</td>\n",
       "      <td>2/18/2015</td>\n",
       "      <td>510000.0</td>\n",
       "      <td>3</td>\n",
       "      <td>2.00</td>\n",
       "      <td>1680</td>\n",
       "      <td>8080</td>\n",
       "      <td>1.0</td>\n",
       "      <td>0.0</td>\n",
       "      <td>0.0</td>\n",
       "      <td>...</td>\n",
       "      <td>1680</td>\n",
       "      <td>0.0</td>\n",
       "      <td>1987</td>\n",
       "      <td>0.0</td>\n",
       "      <td>98074</td>\n",
       "      <td>47.6168</td>\n",
       "      <td>-122.045</td>\n",
       "      <td>1800</td>\n",
       "      <td>7503</td>\n",
       "      <td>Tract 032317</td>\n",
       "    </tr>\n",
       "    <tr>\n",
       "      <th>...</th>\n",
       "      <td>...</td>\n",
       "      <td>...</td>\n",
       "      <td>...</td>\n",
       "      <td>...</td>\n",
       "      <td>...</td>\n",
       "      <td>...</td>\n",
       "      <td>...</td>\n",
       "      <td>...</td>\n",
       "      <td>...</td>\n",
       "      <td>...</td>\n",
       "      <td>...</td>\n",
       "      <td>...</td>\n",
       "      <td>...</td>\n",
       "      <td>...</td>\n",
       "      <td>...</td>\n",
       "      <td>...</td>\n",
       "      <td>...</td>\n",
       "      <td>...</td>\n",
       "      <td>...</td>\n",
       "      <td>...</td>\n",
       "      <td>...</td>\n",
       "    </tr>\n",
       "    <tr>\n",
       "      <th>21592</th>\n",
       "      <td>263000018</td>\n",
       "      <td>5/21/2014</td>\n",
       "      <td>360000.0</td>\n",
       "      <td>3</td>\n",
       "      <td>2.50</td>\n",
       "      <td>1530</td>\n",
       "      <td>1131</td>\n",
       "      <td>3.0</td>\n",
       "      <td>0.0</td>\n",
       "      <td>0.0</td>\n",
       "      <td>...</td>\n",
       "      <td>1530</td>\n",
       "      <td>0.0</td>\n",
       "      <td>2009</td>\n",
       "      <td>0.0</td>\n",
       "      <td>98103</td>\n",
       "      <td>47.6993</td>\n",
       "      <td>-122.346</td>\n",
       "      <td>1530</td>\n",
       "      <td>1509</td>\n",
       "      <td>Tract 001300</td>\n",
       "    </tr>\n",
       "    <tr>\n",
       "      <th>21593</th>\n",
       "      <td>6600060120</td>\n",
       "      <td>2/23/2015</td>\n",
       "      <td>400000.0</td>\n",
       "      <td>4</td>\n",
       "      <td>2.50</td>\n",
       "      <td>2310</td>\n",
       "      <td>5813</td>\n",
       "      <td>2.0</td>\n",
       "      <td>0.0</td>\n",
       "      <td>0.0</td>\n",
       "      <td>...</td>\n",
       "      <td>2310</td>\n",
       "      <td>0.0</td>\n",
       "      <td>2014</td>\n",
       "      <td>0.0</td>\n",
       "      <td>98146</td>\n",
       "      <td>47.5107</td>\n",
       "      <td>-122.362</td>\n",
       "      <td>1830</td>\n",
       "      <td>7200</td>\n",
       "      <td>Tract 026600</td>\n",
       "    </tr>\n",
       "    <tr>\n",
       "      <th>21594</th>\n",
       "      <td>1523300141</td>\n",
       "      <td>6/23/2014</td>\n",
       "      <td>402101.0</td>\n",
       "      <td>2</td>\n",
       "      <td>0.75</td>\n",
       "      <td>1020</td>\n",
       "      <td>1350</td>\n",
       "      <td>2.0</td>\n",
       "      <td>0.0</td>\n",
       "      <td>0.0</td>\n",
       "      <td>...</td>\n",
       "      <td>1020</td>\n",
       "      <td>0.0</td>\n",
       "      <td>2009</td>\n",
       "      <td>0.0</td>\n",
       "      <td>98144</td>\n",
       "      <td>47.5944</td>\n",
       "      <td>-122.299</td>\n",
       "      <td>1020</td>\n",
       "      <td>2007</td>\n",
       "      <td>Tract 008900</td>\n",
       "    </tr>\n",
       "    <tr>\n",
       "      <th>21595</th>\n",
       "      <td>291310100</td>\n",
       "      <td>1/16/2015</td>\n",
       "      <td>400000.0</td>\n",
       "      <td>3</td>\n",
       "      <td>2.50</td>\n",
       "      <td>1600</td>\n",
       "      <td>2388</td>\n",
       "      <td>2.0</td>\n",
       "      <td>NaN</td>\n",
       "      <td>0.0</td>\n",
       "      <td>...</td>\n",
       "      <td>1600</td>\n",
       "      <td>0.0</td>\n",
       "      <td>2004</td>\n",
       "      <td>0.0</td>\n",
       "      <td>98027</td>\n",
       "      <td>47.5345</td>\n",
       "      <td>-122.069</td>\n",
       "      <td>1410</td>\n",
       "      <td>1287</td>\n",
       "      <td>Tract 025006</td>\n",
       "    </tr>\n",
       "    <tr>\n",
       "      <th>21596</th>\n",
       "      <td>1523300157</td>\n",
       "      <td>10/15/2014</td>\n",
       "      <td>325000.0</td>\n",
       "      <td>2</td>\n",
       "      <td>0.75</td>\n",
       "      <td>1020</td>\n",
       "      <td>1076</td>\n",
       "      <td>2.0</td>\n",
       "      <td>0.0</td>\n",
       "      <td>0.0</td>\n",
       "      <td>...</td>\n",
       "      <td>1020</td>\n",
       "      <td>0.0</td>\n",
       "      <td>2008</td>\n",
       "      <td>0.0</td>\n",
       "      <td>98144</td>\n",
       "      <td>47.5941</td>\n",
       "      <td>-122.299</td>\n",
       "      <td>1020</td>\n",
       "      <td>1357</td>\n",
       "      <td>Tract 008900</td>\n",
       "    </tr>\n",
       "  </tbody>\n",
       "</table>\n",
       "<p>21597 rows × 22 columns</p>\n",
       "</div>"
      ],
      "text/plain": [
       "               id        date     price  bedrooms  bathrooms  sqft_living  \\\n",
       "0      7129300520  10/13/2014  221900.0         3       1.00         1180   \n",
       "1      6414100192   12/9/2014  538000.0         3       2.25         2570   \n",
       "2      5631500400   2/25/2015  180000.0         2       1.00          770   \n",
       "3      2487200875   12/9/2014  604000.0         4       3.00         1960   \n",
       "4      1954400510   2/18/2015  510000.0         3       2.00         1680   \n",
       "...           ...         ...       ...       ...        ...          ...   \n",
       "21592   263000018   5/21/2014  360000.0         3       2.50         1530   \n",
       "21593  6600060120   2/23/2015  400000.0         4       2.50         2310   \n",
       "21594  1523300141   6/23/2014  402101.0         2       0.75         1020   \n",
       "21595   291310100   1/16/2015  400000.0         3       2.50         1600   \n",
       "21596  1523300157  10/15/2014  325000.0         2       0.75         1020   \n",
       "\n",
       "       sqft_lot  floors  waterfront  view  ...  sqft_above  sqft_basement  \\\n",
       "0          5650     1.0         NaN   0.0  ...        1180            0.0   \n",
       "1          7242     2.0         0.0   0.0  ...        2170          400.0   \n",
       "2         10000     1.0         0.0   0.0  ...         770            0.0   \n",
       "3          5000     1.0         0.0   0.0  ...        1050          910.0   \n",
       "4          8080     1.0         0.0   0.0  ...        1680            0.0   \n",
       "...         ...     ...         ...   ...  ...         ...            ...   \n",
       "21592      1131     3.0         0.0   0.0  ...        1530            0.0   \n",
       "21593      5813     2.0         0.0   0.0  ...        2310            0.0   \n",
       "21594      1350     2.0         0.0   0.0  ...        1020            0.0   \n",
       "21595      2388     2.0         NaN   0.0  ...        1600            0.0   \n",
       "21596      1076     2.0         0.0   0.0  ...        1020            0.0   \n",
       "\n",
       "       yr_built yr_renovated  zipcode      lat     long  sqft_living15  \\\n",
       "0          1955          0.0    98178  47.5112 -122.257           1340   \n",
       "1          1951       1991.0    98125  47.7210 -122.319           1690   \n",
       "2          1933          NaN    98028  47.7379 -122.233           2720   \n",
       "3          1965          0.0    98136  47.5208 -122.393           1360   \n",
       "4          1987          0.0    98074  47.6168 -122.045           1800   \n",
       "...         ...          ...      ...      ...      ...            ...   \n",
       "21592      2009          0.0    98103  47.6993 -122.346           1530   \n",
       "21593      2014          0.0    98146  47.5107 -122.362           1830   \n",
       "21594      2009          0.0    98144  47.5944 -122.299           1020   \n",
       "21595      2004          0.0    98027  47.5345 -122.069           1410   \n",
       "21596      2008          0.0    98144  47.5941 -122.299           1020   \n",
       "\n",
       "       sqft_lot15        tracts  \n",
       "0            5650  Tract 011900  \n",
       "1            7639  Tract 000200  \n",
       "2            8062  Tract 022102  \n",
       "3            5000  Tract 011600  \n",
       "4            7503  Tract 032317  \n",
       "...           ...           ...  \n",
       "21592        1509  Tract 001300  \n",
       "21593        7200  Tract 026600  \n",
       "21594        2007  Tract 008900  \n",
       "21595        1287  Tract 025006  \n",
       "21596        1357  Tract 008900  \n",
       "\n",
       "[21597 rows x 22 columns]"
      ]
     },
     "execution_count": 21,
     "metadata": {},
     "output_type": "execute_result"
    }
   ],
   "source": [
    "df"
   ]
  },
  {
   "cell_type": "code",
   "execution_count": 22,
   "id": "a7847236-84e0-40e1-a593-5677fdab632d",
   "metadata": {},
   "outputs": [],
   "source": [
    "df.to_csv('housing_data.csv')"
   ]
  },
  {
   "cell_type": "code",
   "execution_count": null,
   "id": "66b5c21e-1dd2-4720-bd44-10477c052eeb",
   "metadata": {},
   "outputs": [],
   "source": []
  },
  {
   "cell_type": "code",
   "execution_count": null,
   "id": "80577e6f-f989-4f1d-a467-3e9bbdad1839",
   "metadata": {},
   "outputs": [],
   "source": []
  },
  {
   "cell_type": "code",
   "execution_count": null,
   "id": "695b058b-947a-45df-a34f-dddc91f0b825",
   "metadata": {},
   "outputs": [],
   "source": []
  },
  {
   "cell_type": "code",
   "execution_count": null,
   "id": "03acb1f8-110e-4b47-acc6-1be9a198cdc3",
   "metadata": {},
   "outputs": [],
   "source": []
  },
  {
   "cell_type": "code",
   "execution_count": null,
   "id": "cd787040-c390-44f7-8823-c978f4d170c9",
   "metadata": {},
   "outputs": [],
   "source": []
  }
 ],
 "metadata": {
  "kernelspec": {
   "display_name": "learn-env",
   "language": "python",
   "name": "learn-env"
  },
  "language_info": {
   "codemirror_mode": {
    "name": "ipython",
    "version": 3
   },
   "file_extension": ".py",
   "mimetype": "text/x-python",
   "name": "python",
   "nbconvert_exporter": "python",
   "pygments_lexer": "ipython3",
   "version": "3.8.5"
  }
 },
 "nbformat": 4,
 "nbformat_minor": 5
}
